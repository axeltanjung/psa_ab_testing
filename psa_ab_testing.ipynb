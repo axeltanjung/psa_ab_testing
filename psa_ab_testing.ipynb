{
 "cells": [
  {
   "cell_type": "markdown",
   "id": "7ec04afb",
   "metadata": {},
   "source": [
    "# Implementation of AB Testing in Marketing Company"
   ]
  },
  {
   "cell_type": "markdown",
   "id": "6aeecab2",
   "metadata": {},
   "source": [
    "![image](https://bithourproduction.com/blog/wp-content/uploads/2022/12/what-is-marketing.png)"
   ]
  },
  {
   "cell_type": "markdown",
   "id": "66fcc80a",
   "metadata": {},
   "source": [
    "### A. Introduction & Background"
   ]
  },
  {
   "cell_type": "markdown",
   "id": "1f73d149",
   "metadata": {},
   "source": [
    "A public service announcement (PSA) is a message created and distributed in the media to inform and educate the public about a particular issue or topic. PSAs are typically sponsored by nonprofit organizations, government agencies, or other public interest groups and are intended to raise awareness, change attitudes, and encourage positive behaviors.\n",
    "\n",
    "PSAs can take many forms, including television or radio commercials, print ads, billboards, social media posts, and online videos. They can address a wide range of topics, from public health and safety to environmental issues, social justice, and civic engagement.\n",
    "\n",
    "PSAs are a valuable tool for promoting public awareness and social change because they are often produced and distributed at no cost to the organizations or individuals involved. They can also reach a large audience and have a significant impact on public opinion and behavior.\n",
    "\n",
    "Marketing companies want to run successful campaigns, but the market is complex and several options can work. So normally they tun A/B tests, that is a randomized experimentation process wherein two or more versions of a variable (web page, page element, banner, etc.) are shown to different segments of people at the same time to determine which version leaves the maximum impact and drive business metrics.\n",
    "The companies are interested in answering two questions:\n",
    "\n",
    "-\tWould the campaign be successful?\n",
    "-\tIf the campaign was successful, how much of that success could be attributed to the ads?\n",
    "\n",
    "With the second question in mind, we normally do an A/B test. The majority of the people will be exposed to ads (the experimental group). And a small portion of people (the control group) would instead see a Public Service Announcement (PSA) (or nothing) in the exact size and place the ad would normally be.\n",
    "\n",
    "The idea of the dataset is to analyze the groups, find if the ads were successful, how much the company can make from the ads, and if the difference between the groups is statistically significant.\n",
    "Data dictionary:\n",
    "\n",
    "-\tIndex: Row index\n",
    "-\tuser id: User ID (unique)\n",
    "-\ttest group: If \"ad\" the person saw the advertisement, if \"psa\" they only saw the public service announcement\n",
    "-\tconverted: If a person bought the product then True, else is False\n",
    "-\ttotal ads: Amount of ads seen by person\n",
    "-\tmost ads day: Day that the person saw the biggest amount of ads\n",
    "-\tmost ads hour: Hour of day that the person saw the biggest amount of ads"
   ]
  },
  {
   "cell_type": "markdown",
   "id": "639de8da",
   "metadata": {},
   "source": [
    "### B. Setting Up Problem"
   ]
  },
  {
   "cell_type": "markdown",
   "id": "d8acc0e8",
   "metadata": {},
   "source": [
    "#### •\tExperimental Goal"
   ]
  },
  {
   "cell_type": "markdown",
   "id": "e1b93886",
   "metadata": {},
   "source": [
    "The experimental goal for AB testing on marketing PSA and ad could be to determine which advertising approach is more effective in increasing brand awareness and driving conversions. Specifically, the goal could be to identify which version of the advertising campaign generates higher click-through rates, conversion rates, and ultimately, higher ROI.\n",
    "\n",
    "To achieve this, the experiment could be designed to compare two versions of the same advertising campaign (A and B), with one version featuring a PSA approach and the other version featuring a traditional ad approach. The experiment could then measure the effectiveness of each approach by tracking metrics such as click-through rates, conversion rates, and revenue generated. The ultimate goal would be to identify which approach generates the most positive results, and to use that information to inform future advertising strategies."
   ]
  },
  {
   "cell_type": "markdown",
   "id": "bf1a522e",
   "metadata": {},
   "source": [
    "#### •\tChoosing Metrics"
   ]
  },
  {
   "cell_type": "markdown",
   "id": "c04c032b",
   "metadata": {},
   "source": [
    "To formulating the experimental metrics, there are several step that should be done. First, we should define the objective experiment. After that, identify how to achieve the objective. From the objective an how to achieve, we can decide the intended outcomes that want to be fulfill. After that, we can decide the Driver Metrics and Guardrail Metrics.\n",
    "\n",
    "Driver Metrics should be in line with the goal metric, sensitive, actionable and can be meaningful by short-term experiment. Those characteristics lead the metrics fit with the experiment.\n",
    "Guardrail metrics give an alert about outcome of the experiment that potentially misleading. These metrics monitor the trade-off that undesirably happen. Also can be use for sanity check about outcome experiment. \n",
    "There are 2 kind of guardrail metrics:\n",
    "\n",
    "**a.\tOrganizational Guardrail Metrics**\n",
    "-\tTo see if there any others trade-off happen when running the initiative\n",
    "-\tIf these metrics lead to negative impact, the business can lead to losses\n",
    "\n",
    "**b.\tTrust-Related Guardrail Metrics**\n",
    "-\t Monitoring level of confidence (trustworthiness) of the experiment\n",
    "-\tChecking the infraction of assumptions\n",
    "\n",
    "From those aspects that have been told before, the writer determines all those metrics that needed to this experiment. Here it is the outcome of the metrics.\n",
    "\n",
    "![image](https://i.ibb.co/WBFxWG8/Picture1.png)\n",
    "\n",
    "To determine the driver metrics, the metrics should be use to monitor the behavior of the user from data collected (measurable). This metrics also can be used to measure the effect of initiave from variant control & treatment (Attributable). Driver metric is leading indicator from goal metrics. So this metrics should have enough variability that can differentiate treatment and control (Sensitivity). Last, the metrics should can be measure by short-term (Timely). By all of those characteristics, writers choose Conversion Rates become Driver Metrics of this AB Testing cases.\n"
   ]
  },
  {
   "cell_type": "markdown",
   "id": "21ff3ad8",
   "metadata": {},
   "source": [
    "#### •\tChoosing Metrics"
   ]
  },
  {
   "cell_type": "markdown",
   "id": "95e3d347",
   "metadata": {},
   "source": [
    "- Control\t: Public Service Announcements (PSA)\n",
    "-Treatment : Creative Ads, such as\n",
    "            a.\tAds with a good headline\n",
    "            b.\tMake the text of information in ads more  concise and informative\n",
    "            Good CTA button that can invite customers to engange.\n",
    "            E.g : “Get Started Now”, or “Buy Now”\n"
   ]
  },
  {
   "cell_type": "markdown",
   "id": "fe3a9eb1",
   "metadata": {},
   "source": [
    "![image](https://i.ibb.co/RDqdPT8/Picture2.png)"
   ]
  },
  {
   "cell_type": "markdown",
   "id": "235e595a",
   "metadata": {},
   "source": [
    "The experiment using total ads below and above 15 based on median of total ads each customer."
   ]
  },
  {
   "cell_type": "markdown",
   "id": "c88e543a",
   "metadata": {},
   "source": [
    "#### •\tDefine Hypothesis"
   ]
  },
  {
   "cell_type": "markdown",
   "id": "22c63765",
   "metadata": {},
   "source": [
    "We want to compare whether group $i$ th is more than group $j$ th, so we use one sided (right tail) hypothesis testing.\n",
    "\n",
    "we want to prove whether the conversion rate of group $j$ is greater than the conversion rate of group $i$\n",
    "\n",
    "The hypothesis for each group pair is as follows:\n",
    "- group A vs group B\n",
    "    $$H_0 : p_B \\leq p_A$$\n",
    "    $$H_1 : p_B > p_A$$\n",
    "\n",
    "- group A vs group C\n",
    "    $$H_0 : p_C \\leq p_A$$\n",
    "    $$H_1 : p_C > p_A$$\n",
    "\n",
    "- group A vs group D\n",
    "    $$H_0 : p_D \\leq p_A$$\n",
    "    $$H_1 : p_D > p_A$$\n",
    "\n",
    "- group B vs group C\n",
    "    $$H_0 : p_C \\leq p_B$$\n",
    "    $$H_1 : p_C > p_B$$\n",
    "\n",
    "- group B vs group D\n",
    "    $$H_0 : p_D \\leq p_B$$\n",
    "    $$H_1 : p_D > p_B$$\n",
    "\n",
    "- group C vs group D\n",
    "    $$H_0 : p_D \\leq p_C$$\n",
    "    $$H_1 : p_D > p_C$$"
   ]
  },
  {
   "cell_type": "markdown",
   "id": "aa297001",
   "metadata": {},
   "source": [
    "### C.\tDesigning Experiments"
   ]
  },
  {
   "cell_type": "markdown",
   "id": "1387878a",
   "metadata": {},
   "source": [
    "#### •\tRandomization Unit"
   ]
  },
  {
   "cell_type": "markdown",
   "id": "4bce290b",
   "metadata": {},
   "source": [
    "Randomization unit is “who” or “what” kind of thinks that allocated randomly to each group. To get more context of the experiment, we’re limiting the population of people in Jakarta."
   ]
  },
  {
   "cell_type": "markdown",
   "id": "64b9e650",
   "metadata": {},
   "source": [
    "#### •\tTarget of randomization unit"
   ]
  },
  {
   "cell_type": "markdown",
   "id": "599f0666",
   "metadata": {},
   "source": [
    "Target of randomization unit is all user that exposed by Public Service Announcement and Creative Ads in Jakarta. Also, we would considering about total ads that expose to the customer as variant of the randomization unit\n"
   ]
  },
  {
   "cell_type": "markdown",
   "id": "6dadbfff",
   "metadata": {},
   "source": [
    "#### •\tSample size"
   ]
  },
  {
   "cell_type": "markdown",
   "id": "1072584d",
   "metadata": {},
   "source": [
    "Size of sample will affect the power of evidence to show validity the experiment. \n",
    "\n",
    "**a.\tSignificant level (α)**\n",
    "\n",
    "α = P (Accept H1 | Ho right)\n",
    "\n",
    "That means opportunities to accept H1, whereas Ho right. Because those things is wrong, so we should reduce the α value. Conservatively, industry rules using 5% or 1% for α values. We’re determined to use α = 5% as significant level.\n",
    "\n",
    "**b.\tPower level (1 - β)**\n",
    "\n",
    "1 – β = P (Reject Ho | Ho wrong)\n",
    "\n",
    "That means opportunities to reject Ho, whereas Ho wrong. Because those things is right, so we should increase the 1 - β value. Conservatively, industry rules using 80% for power lever. We’re determined to use 1 - β = 80% as power level.\n",
    "\n",
    "**c.\tStandard deviation of population (σ)**\n",
    "\n",
    "For this experiment, we make an assumption of standar deviation populiation is 0.1\n",
    "\n",
    "**d.\tDifference between control and treatment (δ)**\n",
    "\n",
    "For business propose, we make an assumption that these treatment will be profitable if the conversion rate increase 1%. So, the management will be implemented the Creative ads rather than PSA because the impact of increasing conversion rate.\n"
   ]
  },
  {
   "cell_type": "markdown",
   "id": "e52d9586",
   "metadata": {},
   "source": [
    "#### • Calculating Sample Size"
   ]
  },
  {
   "cell_type": "markdown",
   "id": "1c25d2dc",
   "metadata": {},
   "source": [
    "#### How many minimum sample size are needed when $\\alpha=5 \\%$ and power 80%?"
   ]
  },
  {
   "cell_type": "markdown",
   "id": "513c802f",
   "metadata": {},
   "source": [
    "- Remember, we can use the given formula to calculate the minimum number of sample size needed.\n",
    "\n",
    "$$\n",
    "n = \\cfrac{2 \\sigma^2 (z_{1-\\alpha/2}+z_{1-\\beta})^2}{\\delta^2}\n",
    "$$"
   ]
  },
  {
   "cell_type": "markdown",
   "id": "a3ab8032",
   "metadata": {},
   "source": [
    "- Thus, if we have the $z$ value, we can determine the number of sample.\n"
   ]
  },
  {
   "cell_type": "code",
   "execution_count": 8,
   "id": "400be716",
   "metadata": {},
   "outputs": [],
   "source": [
    "#Import package yang diperlukan\n",
    "import pandas as pd\n",
    "import numpy as np\n",
    "import seaborn as sns\n",
    "from scipy import stats\n",
    "import scipy.stats as st\n",
    "from statsmodels.stats.power import TTestIndPower\n",
    "import matplotlib.pyplot as plt"
   ]
  },
  {
   "cell_type": "code",
   "execution_count": 9,
   "id": "1c72dd5c",
   "metadata": {},
   "outputs": [],
   "source": [
    "# Given\n",
    "delta = 0.01        # absolute increase of two groups means\n",
    "alpha = 0.05        # significance level\n",
    "power = 0.8         # power\n",
    "std_dev = 0.1      # variance of population (assumed / approximated)"
   ]
  },
  {
   "cell_type": "code",
   "execution_count": 10,
   "id": "113c39c8",
   "metadata": {},
   "outputs": [
    {
     "data": {
      "text/plain": [
       "0.19999999999999996"
      ]
     },
     "execution_count": 10,
     "metadata": {},
     "output_type": "execute_result"
    }
   ],
   "source": [
    "# calculate beta\n",
    "beta = 1 - power\n",
    "beta"
   ]
  },
  {
   "cell_type": "code",
   "execution_count": 11,
   "id": "aad6a044",
   "metadata": {},
   "outputs": [
    {
     "data": {
      "text/plain": [
       "(1.959963984540054, 0.8416212335729143)"
      ]
     },
     "execution_count": 11,
     "metadata": {},
     "output_type": "execute_result"
    }
   ],
   "source": [
    "# calculate the z value\n",
    "z_alpha = stats.norm.ppf(1 - alpha/2)\n",
    "z_beta = stats.norm.ppf(1 - beta)\n",
    "\n",
    "z_alpha, z_beta"
   ]
  },
  {
   "cell_type": "code",
   "execution_count": 12,
   "id": "7e2e1abf",
   "metadata": {},
   "outputs": [
    {
     "name": "stdout",
     "output_type": "stream",
     "text": [
      "Number of sample size needed    : 1569.78\n"
     ]
    }
   ],
   "source": [
    "# then calculate the number of sample size\n",
    "n = 2 * (std_dev**2) * ((z_alpha+z_beta)**2) / (delta**2)\n",
    "\n",
    "print(f\"Number of sample size needed    : {n:.2f}\")"
   ]
  },
  {
   "cell_type": "markdown",
   "id": "9de4655f",
   "metadata": {},
   "source": [
    "**In conclusion**\n",
    "- We need 1.570 samples in one group\n",
    "- and 6.280 sample for four groups."
   ]
  },
  {
   "cell_type": "markdown",
   "id": "f692ded9",
   "metadata": {},
   "source": [
    "#### 2. Determine the power of your experiment if you can only collect 1.500 samples for each groups in one week."
   ]
  },
  {
   "cell_type": "markdown",
   "id": "7823d29c",
   "metadata": {},
   "source": [
    "- Suppose you run the experiment in one week\n",
    "- and can collect 1.500 samples for each group\n",
    "- Determine power of experiments."
   ]
  },
  {
   "cell_type": "markdown",
   "id": "17875c17",
   "metadata": {},
   "source": [
    "**First way**\n",
    "- We can reform the sample size formula. from\n",
    "\n",
    "$$\n",
    "n = \\cfrac{2 \\sigma^2 (z_{1-\\alpha/2}+z_{1-\\beta})^2}{\\delta^2}\n",
    "$$\n",
    "\n",
    "- to\n",
    "$$\n",
    "z_{1-\\beta} = \\sqrt{\\cfrac{n \\delta^{2}}{2 \\sigma^{2}}} - z_{1-\\alpha/2}\n",
    "$$"
   ]
  },
  {
   "cell_type": "code",
   "execution_count": 13,
   "id": "5248c922",
   "metadata": {},
   "outputs": [],
   "source": [
    "# Given\n",
    "n = 1500          # assume that is the minimum sample size we use\n",
    "delta = 0.01    \n",
    "std_dev = 0.1\n",
    "alpha = 0.05"
   ]
  },
  {
   "cell_type": "code",
   "execution_count": 14,
   "id": "3a09d1ee",
   "metadata": {},
   "outputs": [
    {
     "data": {
      "text/plain": [
       "1.959963984540054"
      ]
     },
     "execution_count": 14,
     "metadata": {},
     "output_type": "execute_result"
    }
   ],
   "source": [
    "# Calculate the z_alpha\n",
    "z_alpha = stats.norm.ppf(1 - alpha/2)\n",
    "z_alpha"
   ]
  },
  {
   "cell_type": "code",
   "execution_count": 15,
   "id": "37ffdbc5",
   "metadata": {},
   "outputs": [
    {
     "data": {
      "text/plain": [
       "0.7786488029857761"
      ]
     },
     "execution_count": 15,
     "metadata": {},
     "output_type": "execute_result"
    }
   ],
   "source": [
    "# Calculate the z_beta\n",
    "z_beta = np.sqrt((n * (delta**2))/(2 * std_dev**2)) - z_alpha\n",
    "z_beta"
   ]
  },
  {
   "cell_type": "markdown",
   "id": "bec16cb8",
   "metadata": {},
   "source": [
    "- From the given $z_{1-\\beta}$ find $1-\\beta$ or power"
   ]
  },
  {
   "cell_type": "code",
   "execution_count": 16,
   "id": "3c925b36",
   "metadata": {},
   "outputs": [
    {
     "name": "stdout",
     "output_type": "stream",
     "text": [
      "beta          t  : 0.22\n",
      "Power in 1 week : 78.19 %\n"
     ]
    }
   ],
   "source": [
    "# using library stats.norm.sf(z_value)\n",
    "beta = stats.norm.sf(z_beta)\n",
    "print(f\"beta          t  : {beta:.2f}\")\n",
    "\n",
    "# find power\n",
    "power = 1 - beta\n",
    "print(f\"Power in 1 week : {power*100:.2f} %\")"
   ]
  },
  {
   "cell_type": "markdown",
   "id": "e1791478",
   "metadata": {},
   "source": [
    "**Second way**\n",
    "- We can calculate it by using `power.TTestIndPower.power()`"
   ]
  },
  {
   "cell_type": "code",
   "execution_count": 17,
   "id": "0e6e8e85",
   "metadata": {},
   "outputs": [],
   "source": [
    "# Given\n",
    "n = 1500          # assume that is the minimum sample size we use\n",
    "delta = 0.01    \n",
    "std_dev = 0.1\n",
    "alpha = 0.05"
   ]
  },
  {
   "cell_type": "code",
   "execution_count": 18,
   "id": "29357311",
   "metadata": {},
   "outputs": [
    {
     "name": "stdout",
     "output_type": "stream",
     "text": [
      "Power in 1 week : 78.16 %\n"
     ]
    }
   ],
   "source": [
    "# parameters for power analysis\n",
    "effect_size = delta/std_dev\n",
    "\n",
    "# Initiate the power analysis\n",
    "power_analysis = TTestIndPower()\n",
    "\n",
    "# Calculate power\n",
    "power = power_analysis.power(effect_size = effect_size, \n",
    "                             alpha = alpha, \n",
    "                             nobs1 = n, \n",
    "                             ratio = 1)\n",
    "\n",
    "# Print results\n",
    "print(f\"Power in 1 week : {power*100:.2f} %\")"
   ]
  },
  {
   "cell_type": "markdown",
   "id": "97029a02",
   "metadata": {},
   "source": [
    "- In that case, we don't know the standard deviation of the conversion rate.\n",
    "- However, we can calculate the standard deviation with the information of current baseline conversion rate.\n",
    "- The conversion event is a Bernoulli trial, with $\\hat{p}=0.02$\n",
    "- We can calculate the standard deviation by using the following formula with approach of Bernoulli distribution:\n",
    "\n",
    "$$\\sigma=\\sqrt{\\hat{p}(1-\\hat{p})}$$\n"
   ]
  },
  {
   "cell_type": "code",
   "execution_count": 19,
   "id": "852e6318",
   "metadata": {},
   "outputs": [
    {
     "data": {
      "text/plain": [
       "0.13999999999999999"
      ]
     },
     "execution_count": 19,
     "metadata": {},
     "output_type": "execute_result"
    }
   ],
   "source": [
    "# calculate standar deviation\n",
    "\n",
    "#given \n",
    "p=0.02\n",
    "\n",
    "std_dev = np.sqrt(p*(1-p))\n",
    "std_dev"
   ]
  },
  {
   "cell_type": "code",
   "execution_count": 20,
   "id": "1ba3563d",
   "metadata": {},
   "outputs": [],
   "source": [
    "# Given\n",
    "delta = 0.01        # absolute increase of two groups means\n",
    "alpha = 0.05        # significance level\n",
    "power = 0.8         # power\n"
   ]
  },
  {
   "cell_type": "code",
   "execution_count": 21,
   "id": "9233397d",
   "metadata": {},
   "outputs": [
    {
     "data": {
      "text/plain": [
       "0.19999999999999996"
      ]
     },
     "execution_count": 21,
     "metadata": {},
     "output_type": "execute_result"
    }
   ],
   "source": [
    "# calculate beta\n",
    "beta = 1 - power\n",
    "beta"
   ]
  },
  {
   "cell_type": "code",
   "execution_count": 22,
   "id": "f629ed6a",
   "metadata": {},
   "outputs": [
    {
     "data": {
      "text/plain": [
       "(1.959963984540054, 0.8416212335729143)"
      ]
     },
     "execution_count": 22,
     "metadata": {},
     "output_type": "execute_result"
    }
   ],
   "source": [
    "# calculate the z value\n",
    "z_alpha = stats.norm.ppf(1 - alpha/2)\n",
    "z_beta = stats.norm.ppf(1 - beta)\n",
    "\n",
    "z_alpha, z_beta"
   ]
  },
  {
   "cell_type": "code",
   "execution_count": 23,
   "id": "85ce7bc0",
   "metadata": {},
   "outputs": [
    {
     "name": "stdout",
     "output_type": "stream",
     "text": [
      "Number of sample size needed    : 3076.76\n"
     ]
    }
   ],
   "source": [
    "# then calculate the number of sample size\n",
    "n = 2 * (std_dev**2) * ((z_alpha+z_beta)**2) / (delta**2)\n",
    "\n",
    "print(f\"Number of sample size needed    : {n:.2f}\")"
   ]
  },
  {
   "cell_type": "markdown",
   "id": "c268d028",
   "metadata": {},
   "source": [
    "Because standar deviation is higher, so the sample size is higher.\n",
    "\n",
    "**In conclusion**\n",
    "- We need 3.080 samples in one group\n",
    "- and 12.320 sample for four groups."
   ]
  },
  {
   "cell_type": "markdown",
   "id": "31e1cacf",
   "metadata": {},
   "source": [
    "#### • How long the experiment"
   ]
  },
  {
   "cell_type": "markdown",
   "id": "b88793e3",
   "metadata": {},
   "source": [
    "For make an assumption that every week we can gain 3.000 samples, so we can calculate the experiment time is 5 weeks"
   ]
  },
  {
   "cell_type": "markdown",
   "id": "f7db64e6",
   "metadata": {},
   "source": [
    "### D.\tRunning Experiment and Obtaining Data"
   ]
  },
  {
   "cell_type": "markdown",
   "id": "3feb81a3",
   "metadata": {},
   "source": [
    "Since we can’t collect data directly, we’re assume the following dataset is our experiment. We can take a sample according to the experimental design we made by Designing Experiment."
   ]
  },
  {
   "cell_type": "markdown",
   "id": "9ab76a10",
   "metadata": {},
   "source": [
    "Import data **marketing_AB.csv** "
   ]
  },
  {
   "cell_type": "code",
   "execution_count": 24,
   "id": "81dac4de",
   "metadata": {
    "scrolled": true
   },
   "outputs": [
    {
     "data": {
      "text/html": [
       "<div>\n",
       "<style scoped>\n",
       "    .dataframe tbody tr th:only-of-type {\n",
       "        vertical-align: middle;\n",
       "    }\n",
       "\n",
       "    .dataframe tbody tr th {\n",
       "        vertical-align: top;\n",
       "    }\n",
       "\n",
       "    .dataframe thead th {\n",
       "        text-align: right;\n",
       "    }\n",
       "</style>\n",
       "<table border=\"1\" class=\"dataframe\">\n",
       "  <thead>\n",
       "    <tr style=\"text-align: right;\">\n",
       "      <th></th>\n",
       "      <th>Unnamed: 0</th>\n",
       "      <th>user id</th>\n",
       "      <th>test group</th>\n",
       "      <th>converted</th>\n",
       "      <th>total ads</th>\n",
       "      <th>most ads day</th>\n",
       "      <th>most ads hour</th>\n",
       "    </tr>\n",
       "  </thead>\n",
       "  <tbody>\n",
       "    <tr>\n",
       "      <th>0</th>\n",
       "      <td>0</td>\n",
       "      <td>1069124</td>\n",
       "      <td>ad</td>\n",
       "      <td>False</td>\n",
       "      <td>130</td>\n",
       "      <td>Monday</td>\n",
       "      <td>20</td>\n",
       "    </tr>\n",
       "    <tr>\n",
       "      <th>1</th>\n",
       "      <td>1</td>\n",
       "      <td>1119715</td>\n",
       "      <td>ad</td>\n",
       "      <td>False</td>\n",
       "      <td>93</td>\n",
       "      <td>Tuesday</td>\n",
       "      <td>22</td>\n",
       "    </tr>\n",
       "    <tr>\n",
       "      <th>2</th>\n",
       "      <td>2</td>\n",
       "      <td>1144181</td>\n",
       "      <td>ad</td>\n",
       "      <td>False</td>\n",
       "      <td>21</td>\n",
       "      <td>Tuesday</td>\n",
       "      <td>18</td>\n",
       "    </tr>\n",
       "    <tr>\n",
       "      <th>3</th>\n",
       "      <td>3</td>\n",
       "      <td>1435133</td>\n",
       "      <td>ad</td>\n",
       "      <td>False</td>\n",
       "      <td>355</td>\n",
       "      <td>Tuesday</td>\n",
       "      <td>10</td>\n",
       "    </tr>\n",
       "    <tr>\n",
       "      <th>4</th>\n",
       "      <td>4</td>\n",
       "      <td>1015700</td>\n",
       "      <td>ad</td>\n",
       "      <td>False</td>\n",
       "      <td>276</td>\n",
       "      <td>Friday</td>\n",
       "      <td>14</td>\n",
       "    </tr>\n",
       "  </tbody>\n",
       "</table>\n",
       "</div>"
      ],
      "text/plain": [
       "   Unnamed: 0  user id test group  converted  total ads most ads day  \\\n",
       "0           0  1069124         ad      False        130       Monday   \n",
       "1           1  1119715         ad      False         93      Tuesday   \n",
       "2           2  1144181         ad      False         21      Tuesday   \n",
       "3           3  1435133         ad      False        355      Tuesday   \n",
       "4           4  1015700         ad      False        276       Friday   \n",
       "\n",
       "   most ads hour  \n",
       "0             20  \n",
       "1             22  \n",
       "2             18  \n",
       "3             10  \n",
       "4             14  "
      ]
     },
     "execution_count": 24,
     "metadata": {},
     "output_type": "execute_result"
    }
   ],
   "source": [
    "#Import data\n",
    "df = pd.read_csv('marketing_AB.csv')\n",
    "\n",
    "#Tampilkan 5 data teratas\n",
    "df.head()"
   ]
  },
  {
   "cell_type": "markdown",
   "id": "b9b04090",
   "metadata": {},
   "source": [
    "- Terlihat data terdiri atas 7 fitur (`Unnamed: 0`, `user id`, `test group`, `converted`, `total ads`, `most ads day`, dan `most ads hour`)\n",
    "- Berikut adalah deskripsi masing-masing fitur : \n",
    " -  `Unnamed: 0` : Index\n",
    " -  `user id` : unique user identificator\n",
    " -  `test group` : termasuk ke dalam kelompok psa atau ad\n",
    " - `converted` : True (terjadi konversi pembelian) dan False (tidak terjadi konversi pembelian)\n",
    " - `total ads` : jumlah ads yang tayang dan dilihat oleh user\n",
    " - `most ads day` : hari dengan tanyangan paling banyak dilihat oleh user\n",
    " - `most ads hour` : jam terbanyak dalam satu hari untuk melihat ad / psa"
   ]
  },
  {
   "cell_type": "code",
   "execution_count": 25,
   "id": "1d0eae96",
   "metadata": {},
   "outputs": [
    {
     "data": {
      "text/plain": [
       "(588101, 7)"
      ]
     },
     "execution_count": 25,
     "metadata": {},
     "output_type": "execute_result"
    }
   ],
   "source": [
    "# Cari ukuran data\n",
    "df.shape"
   ]
  },
  {
   "cell_type": "code",
   "execution_count": 26,
   "id": "bc8fe164",
   "metadata": {},
   "outputs": [
    {
     "data": {
      "text/html": [
       "<div>\n",
       "<style scoped>\n",
       "    .dataframe tbody tr th:only-of-type {\n",
       "        vertical-align: middle;\n",
       "    }\n",
       "\n",
       "    .dataframe tbody tr th {\n",
       "        vertical-align: top;\n",
       "    }\n",
       "\n",
       "    .dataframe thead th {\n",
       "        text-align: right;\n",
       "    }\n",
       "</style>\n",
       "<table border=\"1\" class=\"dataframe\">\n",
       "  <thead>\n",
       "    <tr style=\"text-align: right;\">\n",
       "      <th></th>\n",
       "      <th>user id</th>\n",
       "      <th>test group</th>\n",
       "      <th>converted</th>\n",
       "      <th>total ads</th>\n",
       "      <th>most ads day</th>\n",
       "      <th>most ads hour</th>\n",
       "    </tr>\n",
       "  </thead>\n",
       "  <tbody>\n",
       "    <tr>\n",
       "      <th>0</th>\n",
       "      <td>1069124</td>\n",
       "      <td>ad</td>\n",
       "      <td>False</td>\n",
       "      <td>130</td>\n",
       "      <td>Monday</td>\n",
       "      <td>20</td>\n",
       "    </tr>\n",
       "    <tr>\n",
       "      <th>1</th>\n",
       "      <td>1119715</td>\n",
       "      <td>ad</td>\n",
       "      <td>False</td>\n",
       "      <td>93</td>\n",
       "      <td>Tuesday</td>\n",
       "      <td>22</td>\n",
       "    </tr>\n",
       "    <tr>\n",
       "      <th>2</th>\n",
       "      <td>1144181</td>\n",
       "      <td>ad</td>\n",
       "      <td>False</td>\n",
       "      <td>21</td>\n",
       "      <td>Tuesday</td>\n",
       "      <td>18</td>\n",
       "    </tr>\n",
       "    <tr>\n",
       "      <th>3</th>\n",
       "      <td>1435133</td>\n",
       "      <td>ad</td>\n",
       "      <td>False</td>\n",
       "      <td>355</td>\n",
       "      <td>Tuesday</td>\n",
       "      <td>10</td>\n",
       "    </tr>\n",
       "    <tr>\n",
       "      <th>4</th>\n",
       "      <td>1015700</td>\n",
       "      <td>ad</td>\n",
       "      <td>False</td>\n",
       "      <td>276</td>\n",
       "      <td>Friday</td>\n",
       "      <td>14</td>\n",
       "    </tr>\n",
       "    <tr>\n",
       "      <th>...</th>\n",
       "      <td>...</td>\n",
       "      <td>...</td>\n",
       "      <td>...</td>\n",
       "      <td>...</td>\n",
       "      <td>...</td>\n",
       "      <td>...</td>\n",
       "    </tr>\n",
       "    <tr>\n",
       "      <th>588096</th>\n",
       "      <td>1278437</td>\n",
       "      <td>ad</td>\n",
       "      <td>False</td>\n",
       "      <td>1</td>\n",
       "      <td>Tuesday</td>\n",
       "      <td>23</td>\n",
       "    </tr>\n",
       "    <tr>\n",
       "      <th>588097</th>\n",
       "      <td>1327975</td>\n",
       "      <td>ad</td>\n",
       "      <td>False</td>\n",
       "      <td>1</td>\n",
       "      <td>Tuesday</td>\n",
       "      <td>23</td>\n",
       "    </tr>\n",
       "    <tr>\n",
       "      <th>588098</th>\n",
       "      <td>1038442</td>\n",
       "      <td>ad</td>\n",
       "      <td>False</td>\n",
       "      <td>3</td>\n",
       "      <td>Tuesday</td>\n",
       "      <td>23</td>\n",
       "    </tr>\n",
       "    <tr>\n",
       "      <th>588099</th>\n",
       "      <td>1496395</td>\n",
       "      <td>ad</td>\n",
       "      <td>False</td>\n",
       "      <td>1</td>\n",
       "      <td>Tuesday</td>\n",
       "      <td>23</td>\n",
       "    </tr>\n",
       "    <tr>\n",
       "      <th>588100</th>\n",
       "      <td>1237779</td>\n",
       "      <td>ad</td>\n",
       "      <td>False</td>\n",
       "      <td>1</td>\n",
       "      <td>Tuesday</td>\n",
       "      <td>23</td>\n",
       "    </tr>\n",
       "  </tbody>\n",
       "</table>\n",
       "<p>588101 rows × 6 columns</p>\n",
       "</div>"
      ],
      "text/plain": [
       "        user id test group  converted  total ads most ads day  most ads hour\n",
       "0       1069124         ad      False        130       Monday             20\n",
       "1       1119715         ad      False         93      Tuesday             22\n",
       "2       1144181         ad      False         21      Tuesday             18\n",
       "3       1435133         ad      False        355      Tuesday             10\n",
       "4       1015700         ad      False        276       Friday             14\n",
       "...         ...        ...        ...        ...          ...            ...\n",
       "588096  1278437         ad      False          1      Tuesday             23\n",
       "588097  1327975         ad      False          1      Tuesday             23\n",
       "588098  1038442         ad      False          3      Tuesday             23\n",
       "588099  1496395         ad      False          1      Tuesday             23\n",
       "588100  1237779         ad      False          1      Tuesday             23\n",
       "\n",
       "[588101 rows x 6 columns]"
      ]
     },
     "execution_count": 26,
     "metadata": {},
     "output_type": "execute_result"
    }
   ],
   "source": [
    "# Drop Unnamed: 0 karena merupakan index yang tidak dibutuhkan\n",
    "df = df.drop('Unnamed: 0',axis = 1)\n",
    "df"
   ]
  },
  {
   "cell_type": "markdown",
   "id": "d5e0f398",
   "metadata": {},
   "source": [
    "**Pre-Analysis**"
   ]
  },
  {
   "cell_type": "code",
   "execution_count": 27,
   "id": "024c2c3b",
   "metadata": {},
   "outputs": [
    {
     "data": {
      "text/plain": [
       "0"
      ]
     },
     "execution_count": 27,
     "metadata": {},
     "output_type": "execute_result"
    }
   ],
   "source": [
    "# Checking duplicate data\n",
    "df.duplicated(['user id']).sum()"
   ]
  },
  {
   "cell_type": "code",
   "execution_count": 28,
   "id": "19bb198d",
   "metadata": {},
   "outputs": [
    {
     "data": {
      "text/plain": [
       "user id          0\n",
       "test group       0\n",
       "converted        0\n",
       "total ads        0\n",
       "most ads day     0\n",
       "most ads hour    0\n",
       "dtype: int64"
      ]
     },
     "execution_count": 28,
     "metadata": {},
     "output_type": "execute_result"
    }
   ],
   "source": [
    "# Checking missing value\n",
    "df.isna().sum()"
   ]
  },
  {
   "cell_type": "code",
   "execution_count": 29,
   "id": "a786250d",
   "metadata": {},
   "outputs": [
    {
     "data": {
      "text/plain": [
       "(588101, 6)"
      ]
     },
     "execution_count": 29,
     "metadata": {},
     "output_type": "execute_result"
    }
   ],
   "source": [
    "# Get data shape\n",
    "df.shape"
   ]
  },
  {
   "cell_type": "code",
   "execution_count": 30,
   "id": "7782d29e",
   "metadata": {
    "scrolled": true
   },
   "outputs": [
    {
     "name": "stdout",
     "output_type": "stream",
     "text": [
      "<class 'pandas.core.frame.DataFrame'>\n",
      "RangeIndex: 588101 entries, 0 to 588100\n",
      "Data columns (total 6 columns):\n",
      " #   Column         Non-Null Count   Dtype \n",
      "---  ------         --------------   ----- \n",
      " 0   user id        588101 non-null  int64 \n",
      " 1   test group     588101 non-null  object\n",
      " 2   converted      588101 non-null  bool  \n",
      " 3   total ads      588101 non-null  int64 \n",
      " 4   most ads day   588101 non-null  object\n",
      " 5   most ads hour  588101 non-null  int64 \n",
      "dtypes: bool(1), int64(3), object(2)\n",
      "memory usage: 23.0+ MB\n"
     ]
    }
   ],
   "source": [
    "#Overview data\n",
    "df.info()"
   ]
  },
  {
   "cell_type": "markdown",
   "id": "35f9133c",
   "metadata": {},
   "source": [
    "#### Menambah fitur baru untuk menentukan group A, B, C, dan D"
   ]
  },
  {
   "cell_type": "code",
   "execution_count": 31,
   "id": "fa808606",
   "metadata": {},
   "outputs": [],
   "source": [
    "df['total ads group'] = df['total ads']"
   ]
  },
  {
   "cell_type": "code",
   "execution_count": 32,
   "id": "0b66e1be",
   "metadata": {},
   "outputs": [
    {
     "name": "stderr",
     "output_type": "stream",
     "text": [
      "C:\\Users\\Axel\\AppData\\Local\\Temp/ipykernel_26668/3671407745.py:3: SettingWithCopyWarning: \n",
      "A value is trying to be set on a copy of a slice from a DataFrame\n",
      "\n",
      "See the caveats in the documentation: https://pandas.pydata.org/pandas-docs/stable/user_guide/indexing.html#returning-a-view-versus-a-copy\n",
      "  df['total ads group'][i] = '>15'\n"
     ]
    }
   ],
   "source": [
    "for i in range(len(df)):\n",
    "    if df['total ads group'][i] > 15:\n",
    "        df['total ads group'][i] = '>15'\n",
    "    elif df['total ads group'][i] <= 15:\n",
    "        df['total ads group'][i] = '<15'"
   ]
  },
  {
   "cell_type": "code",
   "execution_count": 33,
   "id": "e76f22c6",
   "metadata": {},
   "outputs": [],
   "source": [
    "df['group'] = 0"
   ]
  },
  {
   "cell_type": "code",
   "execution_count": 34,
   "id": "b7ce394c",
   "metadata": {},
   "outputs": [
    {
     "name": "stderr",
     "output_type": "stream",
     "text": [
      "C:\\Users\\Axel\\AppData\\Local\\Temp/ipykernel_26668/1122302527.py:9: SettingWithCopyWarning: \n",
      "A value is trying to be set on a copy of a slice from a DataFrame\n",
      "\n",
      "See the caveats in the documentation: https://pandas.pydata.org/pandas-docs/stable/user_guide/indexing.html#returning-a-view-versus-a-copy\n",
      "  df['group'][i] = 'D'\n"
     ]
    }
   ],
   "source": [
    "for i in range(len(df)):\n",
    "    if df['test group'][i] == 'psa' and df['total ads group'][i] == '<15':\n",
    "        df['group'][i] = 'A'\n",
    "    elif df['test group'][i] == 'psa' and df['total ads group'][i] == '>15':\n",
    "        df['group'][i] = 'B'\n",
    "    elif df['test group'][i] == 'ad' and df['total ads group'][i] == '<15':\n",
    "        df['group'][i] = 'C'\n",
    "    elif df['test group'][i] == 'ad' and df['total ads group'][i] == '>15':\n",
    "        df['group'][i] = 'D'"
   ]
  },
  {
   "cell_type": "code",
   "execution_count": 38,
   "id": "98790420",
   "metadata": {},
   "outputs": [
    {
     "data": {
      "text/html": [
       "<div>\n",
       "<style scoped>\n",
       "    .dataframe tbody tr th:only-of-type {\n",
       "        vertical-align: middle;\n",
       "    }\n",
       "\n",
       "    .dataframe tbody tr th {\n",
       "        vertical-align: top;\n",
       "    }\n",
       "\n",
       "    .dataframe thead th {\n",
       "        text-align: right;\n",
       "    }\n",
       "</style>\n",
       "<table border=\"1\" class=\"dataframe\">\n",
       "  <thead>\n",
       "    <tr style=\"text-align: right;\">\n",
       "      <th></th>\n",
       "      <th>user id</th>\n",
       "      <th>test group</th>\n",
       "      <th>converted</th>\n",
       "      <th>total ads</th>\n",
       "      <th>most ads day</th>\n",
       "      <th>most ads hour</th>\n",
       "      <th>total ads group</th>\n",
       "      <th>group</th>\n",
       "    </tr>\n",
       "  </thead>\n",
       "  <tbody>\n",
       "    <tr>\n",
       "      <th>0</th>\n",
       "      <td>1069124</td>\n",
       "      <td>ad</td>\n",
       "      <td>False</td>\n",
       "      <td>130</td>\n",
       "      <td>Monday</td>\n",
       "      <td>20</td>\n",
       "      <td>&gt;15</td>\n",
       "      <td>D</td>\n",
       "    </tr>\n",
       "    <tr>\n",
       "      <th>1</th>\n",
       "      <td>1119715</td>\n",
       "      <td>ad</td>\n",
       "      <td>False</td>\n",
       "      <td>93</td>\n",
       "      <td>Tuesday</td>\n",
       "      <td>22</td>\n",
       "      <td>&gt;15</td>\n",
       "      <td>D</td>\n",
       "    </tr>\n",
       "    <tr>\n",
       "      <th>2</th>\n",
       "      <td>1144181</td>\n",
       "      <td>ad</td>\n",
       "      <td>False</td>\n",
       "      <td>21</td>\n",
       "      <td>Tuesday</td>\n",
       "      <td>18</td>\n",
       "      <td>&gt;15</td>\n",
       "      <td>D</td>\n",
       "    </tr>\n",
       "    <tr>\n",
       "      <th>3</th>\n",
       "      <td>1435133</td>\n",
       "      <td>ad</td>\n",
       "      <td>False</td>\n",
       "      <td>355</td>\n",
       "      <td>Tuesday</td>\n",
       "      <td>10</td>\n",
       "      <td>&gt;15</td>\n",
       "      <td>D</td>\n",
       "    </tr>\n",
       "    <tr>\n",
       "      <th>4</th>\n",
       "      <td>1015700</td>\n",
       "      <td>ad</td>\n",
       "      <td>False</td>\n",
       "      <td>276</td>\n",
       "      <td>Friday</td>\n",
       "      <td>14</td>\n",
       "      <td>&gt;15</td>\n",
       "      <td>D</td>\n",
       "    </tr>\n",
       "    <tr>\n",
       "      <th>...</th>\n",
       "      <td>...</td>\n",
       "      <td>...</td>\n",
       "      <td>...</td>\n",
       "      <td>...</td>\n",
       "      <td>...</td>\n",
       "      <td>...</td>\n",
       "      <td>...</td>\n",
       "      <td>...</td>\n",
       "    </tr>\n",
       "    <tr>\n",
       "      <th>588096</th>\n",
       "      <td>1278437</td>\n",
       "      <td>ad</td>\n",
       "      <td>False</td>\n",
       "      <td>1</td>\n",
       "      <td>Tuesday</td>\n",
       "      <td>23</td>\n",
       "      <td>&lt;15</td>\n",
       "      <td>C</td>\n",
       "    </tr>\n",
       "    <tr>\n",
       "      <th>588097</th>\n",
       "      <td>1327975</td>\n",
       "      <td>ad</td>\n",
       "      <td>False</td>\n",
       "      <td>1</td>\n",
       "      <td>Tuesday</td>\n",
       "      <td>23</td>\n",
       "      <td>&lt;15</td>\n",
       "      <td>C</td>\n",
       "    </tr>\n",
       "    <tr>\n",
       "      <th>588098</th>\n",
       "      <td>1038442</td>\n",
       "      <td>ad</td>\n",
       "      <td>False</td>\n",
       "      <td>3</td>\n",
       "      <td>Tuesday</td>\n",
       "      <td>23</td>\n",
       "      <td>&lt;15</td>\n",
       "      <td>C</td>\n",
       "    </tr>\n",
       "    <tr>\n",
       "      <th>588099</th>\n",
       "      <td>1496395</td>\n",
       "      <td>ad</td>\n",
       "      <td>False</td>\n",
       "      <td>1</td>\n",
       "      <td>Tuesday</td>\n",
       "      <td>23</td>\n",
       "      <td>&lt;15</td>\n",
       "      <td>C</td>\n",
       "    </tr>\n",
       "    <tr>\n",
       "      <th>588100</th>\n",
       "      <td>1237779</td>\n",
       "      <td>ad</td>\n",
       "      <td>False</td>\n",
       "      <td>1</td>\n",
       "      <td>Tuesday</td>\n",
       "      <td>23</td>\n",
       "      <td>&lt;15</td>\n",
       "      <td>C</td>\n",
       "    </tr>\n",
       "  </tbody>\n",
       "</table>\n",
       "<p>588101 rows × 8 columns</p>\n",
       "</div>"
      ],
      "text/plain": [
       "        user id test group  converted  total ads most ads day  most ads hour  \\\n",
       "0       1069124         ad      False        130       Monday             20   \n",
       "1       1119715         ad      False         93      Tuesday             22   \n",
       "2       1144181         ad      False         21      Tuesday             18   \n",
       "3       1435133         ad      False        355      Tuesday             10   \n",
       "4       1015700         ad      False        276       Friday             14   \n",
       "...         ...        ...        ...        ...          ...            ...   \n",
       "588096  1278437         ad      False          1      Tuesday             23   \n",
       "588097  1327975         ad      False          1      Tuesday             23   \n",
       "588098  1038442         ad      False          3      Tuesday             23   \n",
       "588099  1496395         ad      False          1      Tuesday             23   \n",
       "588100  1237779         ad      False          1      Tuesday             23   \n",
       "\n",
       "       total ads group group  \n",
       "0                  >15     D  \n",
       "1                  >15     D  \n",
       "2                  >15     D  \n",
       "3                  >15     D  \n",
       "4                  >15     D  \n",
       "...                ...   ...  \n",
       "588096             <15     C  \n",
       "588097             <15     C  \n",
       "588098             <15     C  \n",
       "588099             <15     C  \n",
       "588100             <15     C  \n",
       "\n",
       "[588101 rows x 8 columns]"
      ]
     },
     "execution_count": 38,
     "metadata": {},
     "output_type": "execute_result"
    }
   ],
   "source": [
    "df"
   ]
  },
  {
   "cell_type": "markdown",
   "id": "2fd84cb7",
   "metadata": {},
   "source": [
    "#### Create data by Simple Random Sampling from each group"
   ]
  },
  {
   "cell_type": "markdown",
   "id": "9c884ee7",
   "metadata": {},
   "source": [
    "Berdasarkan hasil perhitungan jumlah sampling sebelumnya, penulis mengambil angka konservatif untuk jumlah total sample sebanyak **3.080 user** untuk tiap varian yang akan dilakukan eksperimen"
   ]
  },
  {
   "cell_type": "code",
   "execution_count": 41,
   "id": "e6661d50",
   "metadata": {},
   "outputs": [],
   "source": [
    "data_A = df[df['group'] == 'A']\n",
    "data_B = df[df['group'] == 'B']\n",
    "data_C = df[df['group'] == 'C']\n",
    "data_D = df[df['group'] == 'D']"
   ]
  },
  {
   "cell_type": "code",
   "execution_count": 42,
   "id": "9bfc9075",
   "metadata": {},
   "outputs": [],
   "source": [
    "data_A = data_A.sample(n=3080, random_state=123) \n",
    "data_B = data_B.sample(n=3080, random_state=123)\n",
    "data_C = data_C.sample(n=3080, random_state=123)\n",
    "data_D = data_D.sample(n=3080, random_state=123)"
   ]
  },
  {
   "cell_type": "markdown",
   "id": "09f77f7d",
   "metadata": {},
   "source": [
    "- Find **#convert** in each group"
   ]
  },
  {
   "cell_type": "code",
   "execution_count": 45,
   "id": "4325d0ee",
   "metadata": {
    "scrolled": true
   },
   "outputs": [],
   "source": [
    "# group A\n",
    "n_convertA = data_A['converted'].sum()\n",
    "\n",
    "# group B\n",
    "n_convertB = data_B['converted'].sum()\n",
    "\n",
    "# group C\n",
    "n_convertC = data_C['converted'].sum()\n",
    "\n",
    "# group D\n",
    "n_convertD = data_D['converted'].sum()"
   ]
  },
  {
   "cell_type": "markdown",
   "id": "a4cfcb9d",
   "metadata": {},
   "source": [
    "- Find **#user** in each group"
   ]
  },
  {
   "cell_type": "code",
   "execution_count": 49,
   "id": "4ab42447",
   "metadata": {
    "scrolled": true
   },
   "outputs": [],
   "source": [
    "# Count users in group A, B, C, D\n",
    "n_A = data_A.shape[0]\n",
    "n_B = data_B.shape[0]\n",
    "n_C = data_C.shape[0]\n",
    "n_D = data_D.shape[0]"
   ]
  },
  {
   "cell_type": "markdown",
   "id": "4ea2289e",
   "metadata": {},
   "source": [
    "- Find **conversion rate** in each group"
   ]
  },
  {
   "cell_type": "code",
   "execution_count": 54,
   "id": "cd2e130e",
   "metadata": {},
   "outputs": [
    {
     "name": "stdout",
     "output_type": "stream",
     "text": [
      "convertion rate A : 0.003\n",
      "convertion rate B : 0.038\n",
      "convertion rate C : 0.002\n",
      "convertion rate D : 0.055\n"
     ]
    }
   ],
   "source": [
    "cr_A = n_convertA/n_A\n",
    "cr_B = n_convertB/n_B\n",
    "cr_C = n_convertC/n_C\n",
    "cr_D = n_convertD/n_D\n",
    "\n",
    "print(f\"convertion rate A : {cr_A:.3f}\")\n",
    "print(f\"convertion rate B : {cr_B:.3f}\")\n",
    "print(f\"convertion rate C : {cr_C:.3f}\")\n",
    "print(f\"convertion rate D : {cr_D:.3f}\")"
   ]
  },
  {
   "cell_type": "markdown",
   "id": "84286f1e",
   "metadata": {},
   "source": [
    "Result :\n",
    "\n",
    "<center>\n",
    "\n",
    "|Group|#User|#Convert|Convertion Rate\n",
    "|:--|:--:|:--:|:--:|\n",
    "|A|3080|10| 0.034|\n",
    "|B|3080|117|0.038|\n",
    "|C|3080|7|0.002|\n",
    "|D|3080|169|0.055|\n",
    "\n",
    "</center>"
   ]
  },
  {
   "cell_type": "markdown",
   "id": "d87b97ea",
   "metadata": {},
   "source": [
    "- Dalam visualisasi"
   ]
  },
  {
   "cell_type": "code",
   "execution_count": 109,
   "id": "ac9fdc00",
   "metadata": {
    "scrolled": true
   },
   "outputs": [
    {
     "data": {
      "image/png": "[encoded data removed]",
      "text/plain": [
       "<Figure size 720x504 with 1 Axes>"
      ]
     },
     "metadata": {
      "needs_background": "light"
     },
     "output_type": "display_data"
    }
   ],
   "source": [
    "# visualisasi perbandingan convertion rate tiap grup\n",
    "import matplotlib.pyplot as plt\n",
    "\n",
    "fig, ax = plt.subplots(nrows=1, ncols=1, figsize=(10, 7))\n",
    "\n",
    "# Buat plot\n",
    "ax.bar(\"A\", cr_A, label=\"A\")\n",
    "ax.bar(\"B\", cr_B, label=\"B\")\n",
    "ax.bar(\"C\", cr_C, label=\"C\")\n",
    "ax.bar(\"D\", cr_D, label=\"D\")\n",
    "\n",
    "# Styling plot\n",
    "ax.set_ylabel(\"Convertion Rate\", fontsize=16)\n",
    "ax.set_xlabel(\"Group\", fontsize=16)\n",
    "\n",
    "plt.legend(fontsize=16)\n",
    "plt.show();"
   ]
  },
  {
   "cell_type": "code",
   "execution_count": 110,
   "id": "976e8ee6",
   "metadata": {},
   "outputs": [
    {
     "data": {
      "text/html": [
       "<div>\n",
       "<style scoped>\n",
       "    .dataframe tbody tr th:only-of-type {\n",
       "        vertical-align: middle;\n",
       "    }\n",
       "\n",
       "    .dataframe tbody tr th {\n",
       "        vertical-align: top;\n",
       "    }\n",
       "\n",
       "    .dataframe thead th {\n",
       "        text-align: right;\n",
       "    }\n",
       "</style>\n",
       "<table border=\"1\" class=\"dataframe\">\n",
       "  <thead>\n",
       "    <tr style=\"text-align: right;\">\n",
       "      <th></th>\n",
       "      <th>user id</th>\n",
       "      <th>test group</th>\n",
       "      <th>converted</th>\n",
       "      <th>total ads</th>\n",
       "      <th>most ads day</th>\n",
       "      <th>most ads hour</th>\n",
       "      <th>total ads group</th>\n",
       "      <th>group</th>\n",
       "    </tr>\n",
       "  </thead>\n",
       "  <tbody>\n",
       "    <tr>\n",
       "      <th>549699</th>\n",
       "      <td>922187</td>\n",
       "      <td>psa</td>\n",
       "      <td>False</td>\n",
       "      <td>2</td>\n",
       "      <td>Tuesday</td>\n",
       "      <td>9</td>\n",
       "      <td>&lt;15</td>\n",
       "      <td>A</td>\n",
       "    </tr>\n",
       "    <tr>\n",
       "      <th>218284</th>\n",
       "      <td>909961</td>\n",
       "      <td>psa</td>\n",
       "      <td>False</td>\n",
       "      <td>9</td>\n",
       "      <td>Thursday</td>\n",
       "      <td>14</td>\n",
       "      <td>&lt;15</td>\n",
       "      <td>A</td>\n",
       "    </tr>\n",
       "    <tr>\n",
       "      <th>439360</th>\n",
       "      <td>920939</td>\n",
       "      <td>psa</td>\n",
       "      <td>False</td>\n",
       "      <td>1</td>\n",
       "      <td>Saturday</td>\n",
       "      <td>20</td>\n",
       "      <td>&lt;15</td>\n",
       "      <td>A</td>\n",
       "    </tr>\n",
       "    <tr>\n",
       "      <th>527476</th>\n",
       "      <td>900626</td>\n",
       "      <td>psa</td>\n",
       "      <td>False</td>\n",
       "      <td>4</td>\n",
       "      <td>Friday</td>\n",
       "      <td>15</td>\n",
       "      <td>&lt;15</td>\n",
       "      <td>A</td>\n",
       "    </tr>\n",
       "    <tr>\n",
       "      <th>500435</th>\n",
       "      <td>915897</td>\n",
       "      <td>psa</td>\n",
       "      <td>False</td>\n",
       "      <td>8</td>\n",
       "      <td>Sunday</td>\n",
       "      <td>22</td>\n",
       "      <td>&lt;15</td>\n",
       "      <td>A</td>\n",
       "    </tr>\n",
       "    <tr>\n",
       "      <th>...</th>\n",
       "      <td>...</td>\n",
       "      <td>...</td>\n",
       "      <td>...</td>\n",
       "      <td>...</td>\n",
       "      <td>...</td>\n",
       "      <td>...</td>\n",
       "      <td>...</td>\n",
       "      <td>...</td>\n",
       "    </tr>\n",
       "    <tr>\n",
       "      <th>82046</th>\n",
       "      <td>1253451</td>\n",
       "      <td>ad</td>\n",
       "      <td>False</td>\n",
       "      <td>64</td>\n",
       "      <td>Sunday</td>\n",
       "      <td>21</td>\n",
       "      <td>&gt;15</td>\n",
       "      <td>D</td>\n",
       "    </tr>\n",
       "    <tr>\n",
       "      <th>256349</th>\n",
       "      <td>1620702</td>\n",
       "      <td>ad</td>\n",
       "      <td>True</td>\n",
       "      <td>83</td>\n",
       "      <td>Tuesday</td>\n",
       "      <td>10</td>\n",
       "      <td>&gt;15</td>\n",
       "      <td>D</td>\n",
       "    </tr>\n",
       "    <tr>\n",
       "      <th>569898</th>\n",
       "      <td>1376836</td>\n",
       "      <td>ad</td>\n",
       "      <td>False</td>\n",
       "      <td>24</td>\n",
       "      <td>Saturday</td>\n",
       "      <td>10</td>\n",
       "      <td>&gt;15</td>\n",
       "      <td>D</td>\n",
       "    </tr>\n",
       "    <tr>\n",
       "      <th>140092</th>\n",
       "      <td>1213024</td>\n",
       "      <td>ad</td>\n",
       "      <td>True</td>\n",
       "      <td>24</td>\n",
       "      <td>Tuesday</td>\n",
       "      <td>15</td>\n",
       "      <td>&gt;15</td>\n",
       "      <td>D</td>\n",
       "    </tr>\n",
       "    <tr>\n",
       "      <th>142995</th>\n",
       "      <td>1017209</td>\n",
       "      <td>ad</td>\n",
       "      <td>True</td>\n",
       "      <td>129</td>\n",
       "      <td>Friday</td>\n",
       "      <td>15</td>\n",
       "      <td>&gt;15</td>\n",
       "      <td>D</td>\n",
       "    </tr>\n",
       "  </tbody>\n",
       "</table>\n",
       "<p>12320 rows × 8 columns</p>\n",
       "</div>"
      ],
      "text/plain": [
       "        user id test group  converted  total ads most ads day  most ads hour  \\\n",
       "549699   922187        psa      False          2      Tuesday              9   \n",
       "218284   909961        psa      False          9     Thursday             14   \n",
       "439360   920939        psa      False          1     Saturday             20   \n",
       "527476   900626        psa      False          4       Friday             15   \n",
       "500435   915897        psa      False          8       Sunday             22   \n",
       "...         ...        ...        ...        ...          ...            ...   \n",
       "82046   1253451         ad      False         64       Sunday             21   \n",
       "256349  1620702         ad       True         83      Tuesday             10   \n",
       "569898  1376836         ad      False         24     Saturday             10   \n",
       "140092  1213024         ad       True         24      Tuesday             15   \n",
       "142995  1017209         ad       True        129       Friday             15   \n",
       "\n",
       "       total ads group group  \n",
       "549699             <15     A  \n",
       "218284             <15     A  \n",
       "439360             <15     A  \n",
       "527476             <15     A  \n",
       "500435             <15     A  \n",
       "...                ...   ...  \n",
       "82046              >15     D  \n",
       "256349             >15     D  \n",
       "569898             >15     D  \n",
       "140092             >15     D  \n",
       "142995             >15     D  \n",
       "\n",
       "[12320 rows x 8 columns]"
      ]
     },
     "execution_count": 110,
     "metadata": {},
     "output_type": "execute_result"
    }
   ],
   "source": [
    "# Gabung hasil dari experiment AB Testing untuk grup A, B, C, dan D\n",
    "\n",
    "df_total = pd.concat([data_A,data_B,data_C,data_D])\n",
    "df_total"
   ]
  },
  {
   "cell_type": "markdown",
   "id": "ba6578c0",
   "metadata": {},
   "source": [
    "### E.\tAnalyzing and Interpreting the Data"
   ]
  },
  {
   "cell_type": "markdown",
   "id": "c26e7966",
   "metadata": {},
   "source": [
    "### 1.\tEnsure the trustworthiness"
   ]
  },
  {
   "cell_type": "markdown",
   "id": "9b957b1c",
   "metadata": {},
   "source": [
    "**Some mechanism to Ensure Trustworthiness are :**\n",
    "1. Validate data quality\n",
    "2. Avoid threat to internal validity\n",
    "3. Avoid threat to external validity\n",
    "4. Mitigate the effect of simpson’s paradox"
   ]
  },
  {
   "cell_type": "markdown",
   "id": "c868cb42",
   "metadata": {},
   "source": [
    "#### **Data Quality**\n",
    "\n",
    "We can use the following checklist to measure data quality :\n",
    "- Missing rates : How much missing value in dataset\n",
    "- Uniqueness : No duplicate data\n",
    "- Invalid values : Do the values follow the proper format? Are the values valid for the variable/column?\n",
    "- Data delays : How many data is there at the periode of the experiment? How long does it take between when the events were logged and when the data is available for analysis?"
   ]
  },
  {
   "cell_type": "markdown",
   "id": "499c613e",
   "metadata": {},
   "source": [
    "#### Handle the NaN Data"
   ]
  },
  {
   "cell_type": "markdown",
   "id": "1c6be0a5",
   "metadata": {},
   "source": [
    "- First we have to find the NaN value in each columns"
   ]
  },
  {
   "cell_type": "code",
   "execution_count": 57,
   "id": "569ee2ba",
   "metadata": {},
   "outputs": [
    {
     "name": "stdout",
     "output_type": "stream",
     "text": [
      "922187     1\n",
      "1245581    1\n",
      "1323655    1\n",
      "1194713    1\n",
      "1224476    1\n",
      "          ..\n",
      "909465     1\n",
      "900547     1\n",
      "917044     1\n",
      "920243     1\n",
      "1017209    1\n",
      "Name: user id, Length: 12320, dtype: int64\n",
      "\n",
      "psa    6160\n",
      "ad     6160\n",
      "Name: test group, dtype: int64\n",
      "\n",
      "False    12017\n",
      "True       303\n",
      "Name: converted, dtype: int64\n",
      "\n",
      "1      1034\n",
      "2       798\n",
      "5       586\n",
      "3       577\n",
      "4       473\n",
      "       ... \n",
      "259       1\n",
      "294       1\n",
      "305       1\n",
      "190       1\n",
      "245       1\n",
      "Name: total ads, Length: 299, dtype: int64\n",
      "\n",
      "Friday       2064\n",
      "Thursday     1858\n",
      "Monday       1797\n",
      "Wednesday    1788\n",
      "Sunday       1680\n",
      "Saturday     1608\n",
      "Tuesday      1525\n",
      "Name: most ads day, dtype: int64\n",
      "\n",
      "12    1098\n",
      "11    1019\n",
      "13    1018\n",
      "15     972\n",
      "14     946\n",
      "16     785\n",
      "17     769\n",
      "10     760\n",
      "18     716\n",
      "19     641\n",
      "21     608\n",
      "9      586\n",
      "20     579\n",
      "22     531\n",
      "23     389\n",
      "8      328\n",
      "7      137\n",
      "0      109\n",
      "1      109\n",
      "2      106\n",
      "3       46\n",
      "6       41\n",
      "4       17\n",
      "5       10\n",
      "Name: most ads hour, dtype: int64\n",
      "\n",
      "<15    6160\n",
      ">15    6160\n",
      "Name: total ads group, dtype: int64\n",
      "\n",
      "A    3080\n",
      "B    3080\n",
      "C    3080\n",
      "D    3080\n",
      "Name: group, dtype: int64\n",
      "\n"
     ]
    }
   ],
   "source": [
    "for col in df_total.columns:\n",
    "    print(df_total[col].value_counts(dropna = False))\n",
    "    print(\"\")"
   ]
  },
  {
   "cell_type": "markdown",
   "id": "27301a47",
   "metadata": {},
   "source": [
    "- Sanity check"
   ]
  },
  {
   "cell_type": "code",
   "execution_count": 58,
   "id": "cc82a683",
   "metadata": {},
   "outputs": [
    {
     "name": "stdout",
     "output_type": "stream",
     "text": [
      "922187     1\n",
      "1245581    1\n",
      "1323655    1\n",
      "1194713    1\n",
      "1224476    1\n",
      "          ..\n",
      "909465     1\n",
      "900547     1\n",
      "917044     1\n",
      "920243     1\n",
      "1017209    1\n",
      "Name: user id, Length: 12320, dtype: int64\n",
      "\n",
      "psa    6160\n",
      "ad     6160\n",
      "Name: test group, dtype: int64\n",
      "\n",
      "False    12017\n",
      "True       303\n",
      "Name: converted, dtype: int64\n",
      "\n",
      "1      1034\n",
      "2       798\n",
      "5       586\n",
      "3       577\n",
      "4       473\n",
      "       ... \n",
      "259       1\n",
      "294       1\n",
      "305       1\n",
      "190       1\n",
      "245       1\n",
      "Name: total ads, Length: 299, dtype: int64\n",
      "\n",
      "Friday       2064\n",
      "Thursday     1858\n",
      "Monday       1797\n",
      "Wednesday    1788\n",
      "Sunday       1680\n",
      "Saturday     1608\n",
      "Tuesday      1525\n",
      "Name: most ads day, dtype: int64\n",
      "\n",
      "12    1098\n",
      "11    1019\n",
      "13    1018\n",
      "15     972\n",
      "14     946\n",
      "16     785\n",
      "17     769\n",
      "10     760\n",
      "18     716\n",
      "19     641\n",
      "21     608\n",
      "9      586\n",
      "20     579\n",
      "22     531\n",
      "23     389\n",
      "8      328\n",
      "7      137\n",
      "0      109\n",
      "1      109\n",
      "2      106\n",
      "3       46\n",
      "6       41\n",
      "4       17\n",
      "5       10\n",
      "Name: most ads hour, dtype: int64\n",
      "\n",
      "<15    6160\n",
      ">15    6160\n",
      "Name: total ads group, dtype: int64\n",
      "\n",
      "A    3080\n",
      "B    3080\n",
      "C    3080\n",
      "D    3080\n",
      "Name: group, dtype: int64\n",
      "\n"
     ]
    }
   ],
   "source": [
    "for col in df_total.columns:\n",
    "    print(df_total[col].value_counts(dropna = False))\n",
    "    print(\"\")"
   ]
  },
  {
   "cell_type": "markdown",
   "id": "7e34bf20",
   "metadata": {},
   "source": [
    "#### Remove duplicate data"
   ]
  },
  {
   "cell_type": "markdown",
   "id": "71a83c1d",
   "metadata": {},
   "source": [
    "- Find the duplicate data, especially on `user id`\n",
    "- It has to be unique."
   ]
  },
  {
   "cell_type": "code",
   "execution_count": 59,
   "id": "e276e3f3",
   "metadata": {
    "scrolled": true
   },
   "outputs": [
    {
     "data": {
      "text/html": [
       "<div>\n",
       "<style scoped>\n",
       "    .dataframe tbody tr th:only-of-type {\n",
       "        vertical-align: middle;\n",
       "    }\n",
       "\n",
       "    .dataframe tbody tr th {\n",
       "        vertical-align: top;\n",
       "    }\n",
       "\n",
       "    .dataframe thead th {\n",
       "        text-align: right;\n",
       "    }\n",
       "</style>\n",
       "<table border=\"1\" class=\"dataframe\">\n",
       "  <thead>\n",
       "    <tr style=\"text-align: right;\">\n",
       "      <th></th>\n",
       "      <th>user id</th>\n",
       "      <th>test group</th>\n",
       "      <th>converted</th>\n",
       "      <th>total ads</th>\n",
       "      <th>most ads day</th>\n",
       "      <th>most ads hour</th>\n",
       "      <th>total ads group</th>\n",
       "      <th>group</th>\n",
       "    </tr>\n",
       "  </thead>\n",
       "  <tbody>\n",
       "  </tbody>\n",
       "</table>\n",
       "</div>"
      ],
      "text/plain": [
       "Empty DataFrame\n",
       "Columns: [user id, test group, converted, total ads, most ads day, most ads hour, total ads group, group]\n",
       "Index: []"
      ]
     },
     "execution_count": 59,
     "metadata": {},
     "output_type": "execute_result"
    }
   ],
   "source": [
    "# Find the duplicate\n",
    "df_total[df_total[\"user id\"].duplicated()]"
   ]
  },
  {
   "cell_type": "markdown",
   "id": "c1a4a3db",
   "metadata": {},
   "source": [
    "#### Remove invalid value"
   ]
  },
  {
   "cell_type": "markdown",
   "id": "84a1243e",
   "metadata": {},
   "source": [
    "We need to make sure that there is no wrong group.\n",
    "\n",
    "  - Group A should contain test group **psa** and total ads **<15**\n",
    "  - Group B should contain test group **psa** and total ads **>15**\n",
    "  - Group C should contain test group **ad** and total ads **<15**\n",
    "  - Group D should contain test group **ad** and total ads **>15**"
   ]
  },
  {
   "cell_type": "markdown",
   "id": "064fc002",
   "metadata": {},
   "source": [
    "- Find the wrong group in group A\n",
    "    - group : `A`\n",
    "    - correct combination : `psa` + `<15`\n",
    "    - wrong combination 1 : `psa` + `>15`\n",
    "    - wrong combination 2 : `ad` + `<15`\n",
    "    - wrong combination 3 : `ad` + `>15`"
   ]
  },
  {
   "cell_type": "code",
   "execution_count": 60,
   "id": "74458544",
   "metadata": {},
   "outputs": [],
   "source": [
    "# Check for non-matching groups & elements\n",
    "group_name = \"A\"\n",
    "type_test_group = \"psa\"\n",
    "type_total_ads = \"<15\"\n",
    "\n",
    "# Make condition\n",
    "condition_group = df_total[\"group\"] == group_name\n",
    "condition_test_group = df_total[\"test group\"] == type_test_group\n",
    "condition_total_ads = df_total[\"total ads group\"] == type_total_ads\n",
    "\n",
    "# Select data with the conditions above\n",
    "data_salah_1 = df_total[condition_group & ~(condition_test_group & condition_total_ads)]"
   ]
  },
  {
   "cell_type": "code",
   "execution_count": 61,
   "id": "71d14703",
   "metadata": {},
   "outputs": [
    {
     "data": {
      "text/html": [
       "<div>\n",
       "<style scoped>\n",
       "    .dataframe tbody tr th:only-of-type {\n",
       "        vertical-align: middle;\n",
       "    }\n",
       "\n",
       "    .dataframe tbody tr th {\n",
       "        vertical-align: top;\n",
       "    }\n",
       "\n",
       "    .dataframe thead th {\n",
       "        text-align: right;\n",
       "    }\n",
       "</style>\n",
       "<table border=\"1\" class=\"dataframe\">\n",
       "  <thead>\n",
       "    <tr style=\"text-align: right;\">\n",
       "      <th></th>\n",
       "      <th>user id</th>\n",
       "      <th>test group</th>\n",
       "      <th>converted</th>\n",
       "      <th>total ads</th>\n",
       "      <th>most ads day</th>\n",
       "      <th>most ads hour</th>\n",
       "      <th>total ads group</th>\n",
       "      <th>group</th>\n",
       "    </tr>\n",
       "  </thead>\n",
       "  <tbody>\n",
       "  </tbody>\n",
       "</table>\n",
       "</div>"
      ],
      "text/plain": [
       "Empty DataFrame\n",
       "Columns: [user id, test group, converted, total ads, most ads day, most ads hour, total ads group, group]\n",
       "Index: []"
      ]
     },
     "execution_count": 61,
     "metadata": {},
     "output_type": "execute_result"
    }
   ],
   "source": [
    "# display wrong data\n",
    "data_salah_1.head()"
   ]
  },
  {
   "cell_type": "markdown",
   "id": "1843991a",
   "metadata": {},
   "source": [
    "- Find the wrong group in group B\n",
    "    - group : `B`\n",
    "    - correct combination : `psa` + `>15`\n",
    "    - wrong combination 1 : `psa` + `<15`\n",
    "    - wrong combination 2 : `ad` + `<15`\n",
    "    - wrong combination 3 : `ad` + `>15`"
   ]
  },
  {
   "cell_type": "code",
   "execution_count": 62,
   "id": "8e94019c",
   "metadata": {},
   "outputs": [],
   "source": [
    "# Check for non-matching groups & elements\n",
    "group_name = \"B\"\n",
    "type_test_group = \"psa\"\n",
    "type_total_ads = \">15\"\n",
    "\n",
    "# Make condition\n",
    "condition_group = df_total[\"group\"] == group_name\n",
    "condition_test_group = df_total[\"test group\"] == type_test_group\n",
    "condition_total_ads = df_total[\"total ads group\"] == type_total_ads\n",
    "\n",
    "# Select data with the conditions above\n",
    "data_salah_2 = df_total[condition_group & ~(condition_test_group & condition_total_ads)]"
   ]
  },
  {
   "cell_type": "code",
   "execution_count": 63,
   "id": "e18f661b",
   "metadata": {},
   "outputs": [
    {
     "data": {
      "text/html": [
       "<div>\n",
       "<style scoped>\n",
       "    .dataframe tbody tr th:only-of-type {\n",
       "        vertical-align: middle;\n",
       "    }\n",
       "\n",
       "    .dataframe tbody tr th {\n",
       "        vertical-align: top;\n",
       "    }\n",
       "\n",
       "    .dataframe thead th {\n",
       "        text-align: right;\n",
       "    }\n",
       "</style>\n",
       "<table border=\"1\" class=\"dataframe\">\n",
       "  <thead>\n",
       "    <tr style=\"text-align: right;\">\n",
       "      <th></th>\n",
       "      <th>user id</th>\n",
       "      <th>test group</th>\n",
       "      <th>converted</th>\n",
       "      <th>total ads</th>\n",
       "      <th>most ads day</th>\n",
       "      <th>most ads hour</th>\n",
       "      <th>total ads group</th>\n",
       "      <th>group</th>\n",
       "    </tr>\n",
       "  </thead>\n",
       "  <tbody>\n",
       "  </tbody>\n",
       "</table>\n",
       "</div>"
      ],
      "text/plain": [
       "Empty DataFrame\n",
       "Columns: [user id, test group, converted, total ads, most ads day, most ads hour, total ads group, group]\n",
       "Index: []"
      ]
     },
     "execution_count": 63,
     "metadata": {},
     "output_type": "execute_result"
    }
   ],
   "source": [
    "# display wrong data\n",
    "data_salah_2.head()"
   ]
  },
  {
   "cell_type": "code",
   "execution_count": 64,
   "id": "c57b62cd",
   "metadata": {},
   "outputs": [],
   "source": [
    "# Check for non-matching groups & elements\n",
    "group_name = \"C\"\n",
    "type_test_group = \"ad\"\n",
    "type_total_ads = \"<15\"\n",
    "\n",
    "# Make condition\n",
    "condition_group = df_total[\"group\"] == group_name\n",
    "condition_test_group = df_total[\"test group\"] == type_test_group\n",
    "condition_total_ads = df_total[\"total ads group\"] == type_total_ads\n",
    "\n",
    "# Select data with the conditions above\n",
    "data_salah_3 = df_total[condition_group & ~(condition_test_group & condition_total_ads)]"
   ]
  },
  {
   "cell_type": "code",
   "execution_count": 65,
   "id": "7b566323",
   "metadata": {},
   "outputs": [
    {
     "data": {
      "text/html": [
       "<div>\n",
       "<style scoped>\n",
       "    .dataframe tbody tr th:only-of-type {\n",
       "        vertical-align: middle;\n",
       "    }\n",
       "\n",
       "    .dataframe tbody tr th {\n",
       "        vertical-align: top;\n",
       "    }\n",
       "\n",
       "    .dataframe thead th {\n",
       "        text-align: right;\n",
       "    }\n",
       "</style>\n",
       "<table border=\"1\" class=\"dataframe\">\n",
       "  <thead>\n",
       "    <tr style=\"text-align: right;\">\n",
       "      <th></th>\n",
       "      <th>user id</th>\n",
       "      <th>test group</th>\n",
       "      <th>converted</th>\n",
       "      <th>total ads</th>\n",
       "      <th>most ads day</th>\n",
       "      <th>most ads hour</th>\n",
       "      <th>total ads group</th>\n",
       "      <th>group</th>\n",
       "    </tr>\n",
       "  </thead>\n",
       "  <tbody>\n",
       "  </tbody>\n",
       "</table>\n",
       "</div>"
      ],
      "text/plain": [
       "Empty DataFrame\n",
       "Columns: [user id, test group, converted, total ads, most ads day, most ads hour, total ads group, group]\n",
       "Index: []"
      ]
     },
     "execution_count": 65,
     "metadata": {},
     "output_type": "execute_result"
    }
   ],
   "source": [
    "# display wrong data\n",
    "data_salah_3.head()"
   ]
  },
  {
   "cell_type": "code",
   "execution_count": 66,
   "id": "36d047eb",
   "metadata": {},
   "outputs": [],
   "source": [
    "# Check for non-matching groups & elements\n",
    "group_name = \"D\"\n",
    "type_test_group = \"ad\"\n",
    "type_total_ads = \">15\"\n",
    "\n",
    "# Make condition\n",
    "condition_group = df_total[\"group\"] == group_name\n",
    "condition_test_group = df_total[\"test group\"] == type_test_group\n",
    "condition_total_ads = df_total[\"total ads group\"] == type_total_ads\n",
    "\n",
    "# Select data with the conditions above\n",
    "data_salah_4 = df_total[condition_group & ~(condition_test_group & condition_total_ads)]"
   ]
  },
  {
   "cell_type": "code",
   "execution_count": 67,
   "id": "5e12fcac",
   "metadata": {},
   "outputs": [
    {
     "data": {
      "text/html": [
       "<div>\n",
       "<style scoped>\n",
       "    .dataframe tbody tr th:only-of-type {\n",
       "        vertical-align: middle;\n",
       "    }\n",
       "\n",
       "    .dataframe tbody tr th {\n",
       "        vertical-align: top;\n",
       "    }\n",
       "\n",
       "    .dataframe thead th {\n",
       "        text-align: right;\n",
       "    }\n",
       "</style>\n",
       "<table border=\"1\" class=\"dataframe\">\n",
       "  <thead>\n",
       "    <tr style=\"text-align: right;\">\n",
       "      <th></th>\n",
       "      <th>user id</th>\n",
       "      <th>test group</th>\n",
       "      <th>converted</th>\n",
       "      <th>total ads</th>\n",
       "      <th>most ads day</th>\n",
       "      <th>most ads hour</th>\n",
       "      <th>total ads group</th>\n",
       "      <th>group</th>\n",
       "    </tr>\n",
       "  </thead>\n",
       "  <tbody>\n",
       "  </tbody>\n",
       "</table>\n",
       "</div>"
      ],
      "text/plain": [
       "Empty DataFrame\n",
       "Columns: [user id, test group, converted, total ads, most ads day, most ads hour, total ads group, group]\n",
       "Index: []"
      ]
     },
     "execution_count": 67,
     "metadata": {},
     "output_type": "execute_result"
    }
   ],
   "source": [
    "# display wrong data\n",
    "data_salah_4.head()"
   ]
  },
  {
   "cell_type": "markdown",
   "id": "bcbd94a8",
   "metadata": {},
   "source": [
    "There is no wrong group division"
   ]
  },
  {
   "cell_type": "markdown",
   "id": "b7c1229d",
   "metadata": {},
   "source": [
    "### **2. Data Exploration**"
   ]
  },
  {
   "cell_type": "markdown",
   "id": "ad727707",
   "metadata": {},
   "source": [
    "#### To fill in the table, we have to filter the data based on the group"
   ]
  },
  {
   "cell_type": "code",
   "execution_count": 69,
   "id": "facfc9b1",
   "metadata": {},
   "outputs": [
    {
     "name": "stdout",
     "output_type": "stream",
     "text": [
      "% A   : 25.00%\n",
      "% B   : 25.00%\n",
      "% C   : 25.00%\n",
      "% D   : 25.00%\n"
     ]
    }
   ],
   "source": [
    "# Percentage in each group\n",
    "n_total = df_total.shape[0]\n",
    "persen_A = n_A/n_total * 100 # Control\n",
    "persen_B = n_B/n_total * 100 # Treatment 1\n",
    "persen_C = n_C/n_total * 100 # Treatment 2\n",
    "persen_D = n_D/n_total * 100 # Treatment 3\n",
    "\n",
    "print(f\"% A   : {persen_A:.2f}%\")\n",
    "print(f\"% B   : {persen_B:.2f}%\")\n",
    "print(f\"% C   : {persen_C:.2f}%\")\n",
    "print(f\"% D   : {persen_D:.2f}%\")"
   ]
  },
  {
   "cell_type": "markdown",
   "id": "521bde49",
   "metadata": {},
   "source": [
    "- We get\n",
    "\n",
    "<center>\n",
    "\n",
    "|Group|# user|Percentage|\n",
    "|:--|:--:|:--:|\n",
    "|A|3080|25.00%|\n",
    "|B|3080|25.00%|\n",
    "|C|3080|25.00%|\n",
    "|D|3080|25.00%|\n",
    "\n",
    "</center>"
   ]
  },
  {
   "cell_type": "code",
   "execution_count": 121,
   "id": "3e551de0",
   "metadata": {},
   "outputs": [
    {
     "data": {
      "image/png": "[encoded data removed]",
      "text/plain": [
       "<Figure size 720x504 with 1 Axes>"
      ]
     },
     "metadata": {
      "needs_background": "light"
     },
     "output_type": "display_data"
    }
   ],
   "source": [
    "# import library\n",
    "import seaborn as sns\n",
    "import matplotlib.pyplot as plt\n",
    "\n",
    "# make boxplot\n",
    "fig, ax = plt.subplots(nrows=1, ncols=1, figsize=(10, 7))\n",
    "sns.boxplot(x = 'group',\n",
    "            y = 'total ads',\n",
    "            data = df_total,\n",
    "            ax = ax)\n",
    "\n",
    "plt.show()"
   ]
  },
  {
   "cell_type": "code",
   "execution_count": 163,
   "id": "063859ed",
   "metadata": {},
   "outputs": [
    {
     "data": {
      "image/png": "[encoded data removed]",
      "text/plain": [
       "<Figure size 720x504 with 1 Axes>"
      ]
     },
     "metadata": {
      "needs_background": "light"
     },
     "output_type": "display_data"
    }
   ],
   "source": [
    "# import library\n",
    "import seaborn as sns\n",
    "import matplotlib.pyplot as plt\n",
    "\n",
    "# make boxplot\n",
    "fig, ax = plt.subplots(nrows=1, ncols=1, figsize=(10, 7))\n",
    "sns.boxplot(x = 'group',\n",
    "            y = 'most ads hour',\n",
    "            data = df_total,\n",
    "            ax = ax)\n",
    "\n",
    "plt.show()"
   ]
  },
  {
   "cell_type": "code",
   "execution_count": 125,
   "id": "9e455a7e",
   "metadata": {},
   "outputs": [
    {
     "data": {
      "image/png": "[encoded data removed]",
      "text/plain": [
       "<Figure size 720x504 with 1 Axes>"
      ]
     },
     "metadata": {
      "needs_background": "light"
     },
     "output_type": "display_data"
    }
   ],
   "source": [
    "# make boxplot\n",
    "fig, ax = plt.subplots(nrows=1, ncols=1, figsize=(10, 7))\n",
    "sns.boxplot(x = 'test group',\n",
    "            y = 'total ads',\n",
    "            data = df_total,\n",
    "            ax = ax)\n",
    "\n",
    "plt.show()"
   ]
  },
  {
   "cell_type": "code",
   "execution_count": 138,
   "id": "e9b91a5b",
   "metadata": {
    "scrolled": true
   },
   "outputs": [
    {
     "data": {
      "text/plain": [
       "[Text(0.5, 1.0, 'Proportion of Converted')]"
      ]
     },
     "execution_count": 138,
     "metadata": {},
     "output_type": "execute_result"
    },
    {
     "data": {
      "image/png": "[encoded data removed]",
      "text/plain": [
       "<Figure size 432x288 with 1 Axes>"
      ]
     },
     "metadata": {
      "needs_background": "light"
     },
     "output_type": "display_data"
    }
   ],
   "source": [
    "sns.countplot(data=df_total, x=\"converted\").set(title='Proportion of Converted')"
   ]
  },
  {
   "cell_type": "code",
   "execution_count": 164,
   "id": "fd5e8c5a",
   "metadata": {},
   "outputs": [
    {
     "data": {
      "text/plain": [
       "[Text(0.5, 1.0, 'Proportion of Ads by Day')]"
      ]
     },
     "execution_count": 164,
     "metadata": {},
     "output_type": "execute_result"
    },
    {
     "data": {
      "image/png": "[encoded data removed]",
      "text/plain": [
       "<Figure size 432x288 with 1 Axes>"
      ]
     },
     "metadata": {
      "needs_background": "light"
     },
     "output_type": "display_data"
    }
   ],
   "source": [
    "sns.countplot(data=df_total, x=\"most ads day\").set(title='Proportion of Ads by Day')"
   ]
  },
  {
   "cell_type": "code",
   "execution_count": null,
   "id": "05cdbc39",
   "metadata": {},
   "outputs": [],
   "source": [
    "sns.countplot(data=df_total, x=\"most ads day\").set(title='Proportion of Ads')"
   ]
  },
  {
   "cell_type": "code",
   "execution_count": 147,
   "id": "4f185117",
   "metadata": {},
   "outputs": [
    {
     "data": {
      "text/html": [
       "<div>\n",
       "<style scoped>\n",
       "    .dataframe tbody tr th:only-of-type {\n",
       "        vertical-align: middle;\n",
       "    }\n",
       "\n",
       "    .dataframe tbody tr th {\n",
       "        vertical-align: top;\n",
       "    }\n",
       "\n",
       "    .dataframe thead th {\n",
       "        text-align: right;\n",
       "    }\n",
       "</style>\n",
       "<table border=\"1\" class=\"dataframe\">\n",
       "  <thead>\n",
       "    <tr style=\"text-align: right;\">\n",
       "      <th></th>\n",
       "      <th>user id</th>\n",
       "      <th>test group</th>\n",
       "      <th>converted</th>\n",
       "      <th>total ads</th>\n",
       "      <th>most ads day</th>\n",
       "      <th>most ads hour</th>\n",
       "      <th>total ads group</th>\n",
       "      <th>group</th>\n",
       "    </tr>\n",
       "  </thead>\n",
       "  <tbody>\n",
       "    <tr>\n",
       "      <th>549699</th>\n",
       "      <td>922187</td>\n",
       "      <td>psa</td>\n",
       "      <td>False</td>\n",
       "      <td>2</td>\n",
       "      <td>Tuesday</td>\n",
       "      <td>9</td>\n",
       "      <td>&lt;15</td>\n",
       "      <td>A</td>\n",
       "    </tr>\n",
       "    <tr>\n",
       "      <th>218284</th>\n",
       "      <td>909961</td>\n",
       "      <td>psa</td>\n",
       "      <td>False</td>\n",
       "      <td>9</td>\n",
       "      <td>Thursday</td>\n",
       "      <td>14</td>\n",
       "      <td>&lt;15</td>\n",
       "      <td>A</td>\n",
       "    </tr>\n",
       "    <tr>\n",
       "      <th>439360</th>\n",
       "      <td>920939</td>\n",
       "      <td>psa</td>\n",
       "      <td>False</td>\n",
       "      <td>1</td>\n",
       "      <td>Saturday</td>\n",
       "      <td>20</td>\n",
       "      <td>&lt;15</td>\n",
       "      <td>A</td>\n",
       "    </tr>\n",
       "    <tr>\n",
       "      <th>527476</th>\n",
       "      <td>900626</td>\n",
       "      <td>psa</td>\n",
       "      <td>False</td>\n",
       "      <td>4</td>\n",
       "      <td>Friday</td>\n",
       "      <td>15</td>\n",
       "      <td>&lt;15</td>\n",
       "      <td>A</td>\n",
       "    </tr>\n",
       "    <tr>\n",
       "      <th>500435</th>\n",
       "      <td>915897</td>\n",
       "      <td>psa</td>\n",
       "      <td>False</td>\n",
       "      <td>8</td>\n",
       "      <td>Sunday</td>\n",
       "      <td>22</td>\n",
       "      <td>&lt;15</td>\n",
       "      <td>A</td>\n",
       "    </tr>\n",
       "    <tr>\n",
       "      <th>...</th>\n",
       "      <td>...</td>\n",
       "      <td>...</td>\n",
       "      <td>...</td>\n",
       "      <td>...</td>\n",
       "      <td>...</td>\n",
       "      <td>...</td>\n",
       "      <td>...</td>\n",
       "      <td>...</td>\n",
       "    </tr>\n",
       "    <tr>\n",
       "      <th>308935</th>\n",
       "      <td>1055769</td>\n",
       "      <td>ad</td>\n",
       "      <td>False</td>\n",
       "      <td>33</td>\n",
       "      <td>Sunday</td>\n",
       "      <td>9</td>\n",
       "      <td>&gt;15</td>\n",
       "      <td>D</td>\n",
       "    </tr>\n",
       "    <tr>\n",
       "      <th>92592</th>\n",
       "      <td>1357635</td>\n",
       "      <td>ad</td>\n",
       "      <td>False</td>\n",
       "      <td>115</td>\n",
       "      <td>Monday</td>\n",
       "      <td>12</td>\n",
       "      <td>&gt;15</td>\n",
       "      <td>D</td>\n",
       "    </tr>\n",
       "    <tr>\n",
       "      <th>253022</th>\n",
       "      <td>1097466</td>\n",
       "      <td>ad</td>\n",
       "      <td>False</td>\n",
       "      <td>22</td>\n",
       "      <td>Monday</td>\n",
       "      <td>12</td>\n",
       "      <td>&gt;15</td>\n",
       "      <td>D</td>\n",
       "    </tr>\n",
       "    <tr>\n",
       "      <th>82046</th>\n",
       "      <td>1253451</td>\n",
       "      <td>ad</td>\n",
       "      <td>False</td>\n",
       "      <td>64</td>\n",
       "      <td>Sunday</td>\n",
       "      <td>21</td>\n",
       "      <td>&gt;15</td>\n",
       "      <td>D</td>\n",
       "    </tr>\n",
       "    <tr>\n",
       "      <th>569898</th>\n",
       "      <td>1376836</td>\n",
       "      <td>ad</td>\n",
       "      <td>False</td>\n",
       "      <td>24</td>\n",
       "      <td>Saturday</td>\n",
       "      <td>10</td>\n",
       "      <td>&gt;15</td>\n",
       "      <td>D</td>\n",
       "    </tr>\n",
       "  </tbody>\n",
       "</table>\n",
       "<p>12017 rows × 8 columns</p>\n",
       "</div>"
      ],
      "text/plain": [
       "        user id test group  converted  total ads most ads day  most ads hour  \\\n",
       "549699   922187        psa      False          2      Tuesday              9   \n",
       "218284   909961        psa      False          9     Thursday             14   \n",
       "439360   920939        psa      False          1     Saturday             20   \n",
       "527476   900626        psa      False          4       Friday             15   \n",
       "500435   915897        psa      False          8       Sunday             22   \n",
       "...         ...        ...        ...        ...          ...            ...   \n",
       "308935  1055769         ad      False         33       Sunday              9   \n",
       "92592   1357635         ad      False        115       Monday             12   \n",
       "253022  1097466         ad      False         22       Monday             12   \n",
       "82046   1253451         ad      False         64       Sunday             21   \n",
       "569898  1376836         ad      False         24     Saturday             10   \n",
       "\n",
       "       total ads group group  \n",
       "549699             <15     A  \n",
       "218284             <15     A  \n",
       "439360             <15     A  \n",
       "527476             <15     A  \n",
       "500435             <15     A  \n",
       "...                ...   ...  \n",
       "308935             >15     D  \n",
       "92592              >15     D  \n",
       "253022             >15     D  \n",
       "82046              >15     D  \n",
       "569898             >15     D  \n",
       "\n",
       "[12017 rows x 8 columns]"
      ]
     },
     "execution_count": 147,
     "metadata": {},
     "output_type": "execute_result"
    }
   ],
   "source": [
    "df_true = df_total[df_total[\"converted\"] == True]\n",
    "df_false = df_total[df_total[\"converted\"] == False]\n",
    "df_false"
   ]
  },
  {
   "cell_type": "code",
   "execution_count": 169,
   "id": "3d49e9f5",
   "metadata": {
    "scrolled": false
   },
   "outputs": [
    {
     "name": "stderr",
     "output_type": "stream",
     "text": [
      "C:\\Users\\Axel\\anaconda3\\lib\\site-packages\\seaborn\\distributions.py:2619: FutureWarning: `distplot` is a deprecated function and will be removed in a future version. Please adapt your code to use either `displot` (a figure-level function with similar flexibility) or `histplot` (an axes-level function for histograms).\n",
      "  warnings.warn(msg, FutureWarning)\n",
      "C:\\Users\\Axel\\anaconda3\\lib\\site-packages\\seaborn\\distributions.py:2619: FutureWarning: `distplot` is a deprecated function and will be removed in a future version. Please adapt your code to use either `displot` (a figure-level function with similar flexibility) or `histplot` (an axes-level function for histograms).\n",
      "  warnings.warn(msg, FutureWarning)\n"
     ]
    },
    {
     "data": {
      "image/png": "[encoded data removed]",
      "text/plain": [
       "<Figure size 432x288 with 1 Axes>"
      ]
     },
     "metadata": {
      "needs_background": "light"
     },
     "output_type": "display_data"
    }
   ],
   "source": [
    "# plotting charges smoker and charges non-smoker distribution on the same figure\n",
    "fig_a = sns.distplot(df_true[\"total ads\"], axlabel='converted', kde=True)\n",
    "fig_b = sns.distplot(df_false[\"total ads\"], axlabel='converted', kde=True)\n",
    "plt.show()"
   ]
  },
  {
   "cell_type": "code",
   "execution_count": 161,
   "id": "0559de8e",
   "metadata": {},
   "outputs": [
    {
     "name": "stderr",
     "output_type": "stream",
     "text": [
      "C:\\Users\\Axel\\anaconda3\\lib\\site-packages\\seaborn\\distributions.py:2619: FutureWarning: `distplot` is a deprecated function and will be removed in a future version. Please adapt your code to use either `displot` (a figure-level function with similar flexibility) or `histplot` (an axes-level function for histograms).\n",
      "  warnings.warn(msg, FutureWarning)\n",
      "C:\\Users\\Axel\\anaconda3\\lib\\site-packages\\seaborn\\distributions.py:2619: FutureWarning: `distplot` is a deprecated function and will be removed in a future version. Please adapt your code to use either `displot` (a figure-level function with similar flexibility) or `histplot` (an axes-level function for histograms).\n",
      "  warnings.warn(msg, FutureWarning)\n"
     ]
    },
    {
     "data": {
      "image/png": "[encoded data removed]",
      "text/plain": [
       "<Figure size 432x288 with 1 Axes>"
      ]
     },
     "metadata": {
      "needs_background": "light"
     },
     "output_type": "display_data"
    }
   ],
   "source": [
    "# plotting charges smoker and charges non-smoker distribution on the same figure\n",
    "fig_a = sns.distplot(df_true[\"most ads hour\"], axlabel='most ads hour', kde=True)\n",
    "fig_b = sns.distplot(df_false[\"most ads hour\"], axlabel='most ads hour', kde=True)\n",
    "plt.show()"
   ]
  },
  {
   "cell_type": "markdown",
   "id": "084c31b2",
   "metadata": {},
   "source": [
    "### **3. Sample Ratio Mismatch (SRM)**\n",
    "* Sample Ratio Mismatch (SRM) is the situation when the observed sample ratio in the experiment is different from the expected.\n",
    "\n",
    "* **Chi-square test** can be used to detect whether an experiment has SRM or not.\n",
    "\n",
    "The steps for doing a chi-square test in order to detect SRM are:\n",
    "1. Define the null and alternative hypothesis (H0 and H1)\n",
    "2. Calculate chi-square statistics\n",
    "3. Define decision rules\n",
    "4. Make decisions and draw a conclusion\n"
   ]
  },
  {
   "cell_type": "markdown",
   "id": "66ae3276",
   "metadata": {},
   "source": [
    "### Chi-Square Test for Detect SRM"
   ]
  },
  {
   "cell_type": "markdown",
   "id": "b9296563",
   "metadata": {},
   "source": [
    "The steps for doing a chi-square test in order to detect SRM are:"
   ]
  },
  {
   "cell_type": "markdown",
   "id": "9b80d142",
   "metadata": {},
   "source": [
    "**1. Define the null and alternative hypothesis ($H_0$ and $H_1$)**\n",
    "\n",
    "$H_0$  : No SRM detected\n",
    "\n",
    "$H_1$  : SRM detected"
   ]
  },
  {
   "cell_type": "markdown",
   "id": "137fdae7",
   "metadata": {},
   "source": [
    "**2. Calculate chi-square statistics**\n",
    "\n",
    "$$ \\chi^2 = \\sum \\frac{\\left ( \\text{observed - expected} \\right )^2}{\\text{expected}} $$\n",
    "\n",
    "Where :\n",
    "- Observed: the control and variation traffic volumes (sample size), respectively\n",
    "- Expected: the expected values for control and treatment — i.e. the total observed divided by 4\n"
   ]
  },
  {
   "cell_type": "markdown",
   "id": "b482d1d2",
   "metadata": {},
   "source": [
    "Observed is the same as # user in each group.\n",
    "\n",
    "For calculate expexted in each group, we can use total observed divided by 4\n"
   ]
  },
  {
   "cell_type": "code",
   "execution_count": 71,
   "id": "c04ebe12",
   "metadata": {},
   "outputs": [],
   "source": [
    "observed = [ n_A, n_B, n_C, n_D ]\n",
    "total_traffic= sum(observed)\n",
    "expected = [ total_traffic/4, total_traffic/4, total_traffic/4, total_traffic/4 ]"
   ]
  },
  {
   "cell_type": "markdown",
   "id": "8dbb21b4",
   "metadata": {},
   "source": [
    "Then we can calculate the chi-square statistics using the function in the `scipy` library, namely `chisquare` with steps: \n",
    "\n",
    "1. import library\n",
    "  - from scipy.stats import chisquare\n",
    "2. Use the function `chisquare(f_obs, f_exp=...)`\n",
    "    - `f_obs`: Observed frequencies in each category (array)\n",
    "    - `f_exp`: Expected frequencies in each category. By default the categories are assumed to be equally likely."
   ]
  },
  {
   "cell_type": "code",
   "execution_count": 72,
   "id": "8c584b42",
   "metadata": {},
   "outputs": [
    {
     "name": "stdout",
     "output_type": "stream",
     "text": [
      "Power_divergenceResult(statistic=0.0, pvalue=1.0)\n"
     ]
    }
   ],
   "source": [
    "#calculate chi-square statistics\n",
    "from scipy.stats import chisquare\n",
    "chi = chisquare(observed, f_exp=expected)\n",
    "print(chi)"
   ]
  },
  {
   "cell_type": "markdown",
   "id": "05cce4af",
   "metadata": {},
   "source": [
    "**3. Define decision rules**"
   ]
  },
  {
   "cell_type": "markdown",
   "id": "0c64f4a6",
   "metadata": {},
   "source": [
    "In making statistical test decisions, we can use:\n",
    "- Comparison of chi-square statistics with critical value\n",
    "     -  $\\chi^2 > \\chi^2_{\\alpha,df}$ → reject $H_0$\n",
    "\n",
    "- Comparison of p-value with alpha\n",
    "   - pvalue < $\\alpha$ → reject $H_0$\n",
    "\n",
    "\n",
    "Normally, one would look for a p-value of 0.05 or less to proof of SRM. The problem with 0.05 is that it’s not strict enough for our purposes. Using this might give us a false signal. What we need is to be stricter for our test. So we use significance level 1%.\n",
    "\n",
    "degree of freedom (df) is calculated as: \n",
    "$$ df = (rows − 1) × (columns − 1) $$ \n"
   ]
  },
  {
   "cell_type": "code",
   "execution_count": 73,
   "id": "d6579af8",
   "metadata": {},
   "outputs": [
    {
     "name": "stdout",
     "output_type": "stream",
     "text": [
      "Critical value: 6.635\n"
     ]
    }
   ],
   "source": [
    "# Comparison of chi-square statistics with critical value\n",
    "# We must calculate the critical first\n",
    "\n",
    "# critical value is the chi-square value at alpha\n",
    "alpha = 0.01\n",
    "df=(2-1)*(2-1)  \n",
    "\n",
    "import scipy\n",
    "chi_critical = scipy.stats.chi2.ppf(1 - alpha, df)\n",
    "print(f\"Critical value: {chi_critical:.3f}\")"
   ]
  },
  {
   "cell_type": "code",
   "execution_count": 74,
   "id": "7827dc4e",
   "metadata": {},
   "outputs": [
    {
     "name": "stdout",
     "output_type": "stream",
     "text": [
      "Fail to reject H0 : No SRM\n"
     ]
    }
   ],
   "source": [
    "#Make decisions from chi-square statistics and critical value\n",
    "if chi[0] > chi_critical:\n",
    "  print(\"Reject H0 : SRM may be present.\")\n",
    "else:\n",
    "  print(\"Fail to reject H0 : No SRM\")"
   ]
  },
  {
   "cell_type": "code",
   "execution_count": 75,
   "id": "d52ff8f4",
   "metadata": {},
   "outputs": [
    {
     "name": "stdout",
     "output_type": "stream",
     "text": [
      "Fail to reject H0 : No SRM.\n"
     ]
    }
   ],
   "source": [
    "# Comparison of P-Value with alpha.\n",
    "if chi[1] < 0.01:\n",
    "    print('Reject H0 : SRM may be present.')\n",
    "else:\n",
    "    print('Fail to reject H0 : No SRM.')"
   ]
  },
  {
   "cell_type": "markdown",
   "id": "0cdf08a6",
   "metadata": {},
   "source": [
    "#### Conclusion"
   ]
  },
  {
   "cell_type": "markdown",
   "id": "e6438de4",
   "metadata": {},
   "source": [
    "Based on data quality, we have done data cleaning so that the data we use is of sufficient quality. But we need to check again, whether the sample size after data cleaning is sufficient (according to the experimental design) or not so that there is enough power to draw credible conclusions.\n",
    "\n",
    "Based on the detection of SRM, although the sample size of the cleaned data in the control and treatment groups is different. However, SRM was not detected."
   ]
  },
  {
   "cell_type": "markdown",
   "id": "299b1866",
   "metadata": {},
   "source": [
    "### 2.\tHypothesis Testing and Analyzing the Result"
   ]
  },
  {
   "cell_type": "markdown",
   "id": "37a2396d",
   "metadata": {},
   "source": [
    "#### Calculate key evaluation criterion"
   ]
  },
  {
   "cell_type": "code",
   "execution_count": 76,
   "id": "1c9d254b",
   "metadata": {},
   "outputs": [],
   "source": [
    "def extract_evaluation(data):\n",
    "    \"\"\"\n",
    "    Extract key evaluation criterion within the data\n",
    "    - number of session\n",
    "    - number of conversion\n",
    "    - conversion rate\n",
    "    :param data: <pandas DataFrame> sample data\n",
    "    :return results: <dict> contain number of sess., number of conv., & conversion rate\n",
    "    \"\"\"\n",
    "    # Number of session\n",
    "    n_session = int(data.shape[0])\n",
    "\n",
    "    # Number of conversion\n",
    "    n_conversion = int(data[\"converted\"].sum())\n",
    "\n",
    "    # Conversion rate (in percent)\n",
    "    conversion_rate = (n_conversion/n_session) * 100\n",
    "\n",
    "    # Return results\n",
    "    results = {}\n",
    "    results[\"session\"] = n_session\n",
    "    results[\"conversion\"] = n_conversion\n",
    "    results[\"CVR\"] = np.round(conversion_rate, 2)\n",
    "\n",
    "    return results\n"
   ]
  },
  {
   "cell_type": "code",
   "execution_count": 77,
   "id": "e01868ec",
   "metadata": {},
   "outputs": [],
   "source": [
    "control_res_A = extract_evaluation(data = data_A)\n",
    "treatment_res_B = extract_evaluation(data = data_B)\n",
    "treatment_res_C = extract_evaluation(data = data_C)\n",
    "treatment_res_D = extract_evaluation(data = data_D)"
   ]
  },
  {
   "cell_type": "code",
   "execution_count": 78,
   "id": "b352d58c",
   "metadata": {},
   "outputs": [
    {
     "name": "stdout",
     "output_type": "stream",
     "text": [
      "CONTROL A: {'session': 3080, 'conversion': 10, 'CVR': 0.32}\n",
      "TREATMENT B: {'session': 3080, 'conversion': 117, 'CVR': 3.8}\n",
      "TREATMENT C: {'session': 3080, 'conversion': 7, 'CVR': 0.23}\n",
      "TREATMENT D: {'session': 3080, 'conversion': 169, 'CVR': 5.49}\n"
     ]
    }
   ],
   "source": [
    "print(f\"CONTROL A: {control_res_A}\")\n",
    "print(f\"TREATMENT B: {treatment_res_B}\")\n",
    "print(f\"TREATMENT C: {treatment_res_C}\")\n",
    "print(f\"TREATMENT D: {treatment_res_D}\")"
   ]
  },
  {
   "cell_type": "markdown",
   "id": "52b440d7",
   "metadata": {},
   "source": [
    "#### Calculate lift-over-baseline"
   ]
  },
  {
   "cell_type": "markdown",
   "id": "40b83241",
   "metadata": {},
   "source": [
    "$$\n",
    "\\text{Lift} = CVR_{\\text{treatment}} - CVR_{\\text{control}}\n",
    "$$"
   ]
  },
  {
   "cell_type": "code",
   "execution_count": 79,
   "id": "194a5499",
   "metadata": {},
   "outputs": [],
   "source": [
    "lift_B = treatment_res_B[\"CVR\"] - control_res_A[\"CVR\"]\n",
    "lift_C = treatment_res_C[\"CVR\"] - control_res_A[\"CVR\"]\n",
    "lift_D = treatment_res_D[\"CVR\"] - control_res_A[\"CVR\"]"
   ]
  },
  {
   "cell_type": "code",
   "execution_count": 80,
   "id": "1617e7e5",
   "metadata": {},
   "outputs": [
    {
     "name": "stdout",
     "output_type": "stream",
     "text": [
      "Lift-overbaseline untuk treatment B adalah 3.48 %\n",
      "Lift-overbaseline untuk treatment C adalah -0.09 %\n",
      "Lift-overbaseline untuk treatment D adalah 5.17 %\n"
     ]
    }
   ],
   "source": [
    "print(f\"Lift-overbaseline untuk treatment B adalah {lift_B} %\")\n",
    "print(f\"Lift-overbaseline untuk treatment C adalah {lift_C} %\")\n",
    "print(f\"Lift-overbaseline untuk treatment D adalah {lift_D} %\")"
   ]
  },
  {
   "cell_type": "markdown",
   "id": "534f8cbb",
   "metadata": {},
   "source": [
    "####  **Multiple Hypothesis Testing with Benjamini-Hochberg Correction**\n",
    "---"
   ]
  },
  {
   "cell_type": "markdown",
   "id": "a862e673",
   "metadata": {},
   "source": [
    "- To find out which one is the best, we can do a hypothesis testing.\n",
    "- A suitable hypothesis test for this case is the z-test for proportion.\n",
    "- Because we have more than two groups to compare, therefore we perform multiple hypothesis testing for each group pair.\n",
    "- An issue with multiple hypothesis testing is increasing of Type I error, so we can do correction with Benjamini-Hochberg Correction "
   ]
  },
  {
   "cell_type": "markdown",
   "id": "54992e38",
   "metadata": {},
   "source": [
    "**The following is the stage for conducting the analysis :**"
   ]
  },
  {
   "cell_type": "markdown",
   "id": "9662ee56",
   "metadata": {},
   "source": [
    "##### 1. Define null hypothesis ($H_0$) and alternative hypothesis ($H_1$)"
   ]
  },
  {
   "cell_type": "markdown",
   "id": "b35afd0d",
   "metadata": {},
   "source": [
    "We want to compare whether group $i$ th is more than group $j$ th, so we use one sided (right tail) hypothesis testing.\n",
    "\n",
    "we want to prove whether the conversion rate of group $j$ is greater than the conversion rate of group $i$\n",
    "\n",
    "The hypothesis for each group pair is as follows:\n",
    "- group A vs group B\n",
    "    $$H_0 : p_B \\leq p_A$$\n",
    "    $$H_1 : p_B > p_A$$\n",
    "\n",
    "- group A vs group C\n",
    "    $$H_0 : p_C \\leq p_A$$\n",
    "    $$H_1 : p_C > p_A$$\n",
    "\n",
    "- group A vs group D\n",
    "    $$H_0 : p_D \\leq p_A$$\n",
    "    $$H_1 : p_D > p_A$$\n",
    "\n",
    "- group B vs group C\n",
    "    $$H_0 : p_C \\leq p_B$$\n",
    "    $$H_1 : p_C > p_B$$\n",
    "\n",
    "- group B vs group D\n",
    "    $$H_0 : p_D \\leq p_B$$\n",
    "    $$H_1 : p_D > p_B$$\n",
    "\n",
    "- group C vs group D\n",
    "    $$H_0 : p_D \\leq p_C$$\n",
    "    $$H_1 : p_D > p_C$$"
   ]
  },
  {
   "cell_type": "markdown",
   "id": "c7e0cd9a",
   "metadata": {},
   "source": [
    "- Set siginificance level (alpha)\n",
    " - Significance level = 0.05"
   ]
  },
  {
   "cell_type": "markdown",
   "id": "811170cf",
   "metadata": {},
   "source": [
    "##### 2. Calculate the p-value in each test"
   ]
  },
  {
   "cell_type": "markdown",
   "id": "5cdc91e7",
   "metadata": {},
   "source": [
    "**Remember** the rule of thumbs\n",
    "\n",
    "<img src=\"https://drive.google.com/uc?id=1EoXDTU8KDBl4Iu7H692lyZqF47d2zVsK\">"
   ]
  },
  {
   "cell_type": "code",
   "execution_count": 81,
   "id": "f8bae077",
   "metadata": {},
   "outputs": [
    {
     "name": "stdout",
     "output_type": "stream",
     "text": [
      "P-value A vs B: 0.0000\n"
     ]
    }
   ],
   "source": [
    "#import library\n",
    "from statsmodels.stats.proportion import proportions_ztest\n",
    "\n",
    "# call function\n",
    "#p-value group A vs group B hypotesis test\n",
    "p_value_AB = proportions_ztest(count = [n_convertB, n_convertA],\n",
    "                               nobs = [n_B, n_A],\n",
    "                               alternative = 'larger')[1]\n",
    "\n",
    "print(f\"P-value A vs B: {p_value_AB:.4f}\")"
   ]
  },
  {
   "cell_type": "code",
   "execution_count": 82,
   "id": "30783ce0",
   "metadata": {},
   "outputs": [
    {
     "name": "stdout",
     "output_type": "stream",
     "text": [
      "P-value A vs C: 0.7669\n"
     ]
    }
   ],
   "source": [
    "#p-value group A vs group C hypotesis test\n",
    "p_value_AC = proportions_ztest(count = [n_convertC, n_convertA],\n",
    "                               nobs = [n_C, n_A],\n",
    "                               alternative = 'larger')[1]\n",
    "\n",
    "print(f\"P-value A vs C: {p_value_AC:.4f}\")"
   ]
  },
  {
   "cell_type": "code",
   "execution_count": 83,
   "id": "fb13e006",
   "metadata": {},
   "outputs": [
    {
     "name": "stdout",
     "output_type": "stream",
     "text": [
      "P-value A vs D: 0.0000\n"
     ]
    }
   ],
   "source": [
    "#p-value group A vs group D hypotesis test\n",
    "p_value_AD = proportions_ztest(count = [n_convertD, n_convertA],\n",
    "                               nobs = [n_D, n_A],\n",
    "                               alternative = 'larger')[1]\n",
    "\n",
    "print(f\"P-value A vs D: {p_value_AD:.4f}\")"
   ]
  },
  {
   "cell_type": "code",
   "execution_count": 84,
   "id": "3e3f6ad7",
   "metadata": {},
   "outputs": [
    {
     "name": "stdout",
     "output_type": "stream",
     "text": [
      "P-value B vs C: 1.0000\n"
     ]
    }
   ],
   "source": [
    "#p-value group B vs group C hypotesis test\n",
    "p_value_BC = proportions_ztest(count = [n_convertC, n_convertB],\n",
    "                               nobs = [n_C, n_B],\n",
    "                               alternative = 'larger')[1]\n",
    "\n",
    "print(f\"P-value B vs C: {p_value_BC:.4f}\")"
   ]
  },
  {
   "cell_type": "code",
   "execution_count": 85,
   "id": "cfce957e",
   "metadata": {},
   "outputs": [
    {
     "name": "stdout",
     "output_type": "stream",
     "text": [
      "P-value B vs D: 0.0008\n"
     ]
    }
   ],
   "source": [
    "#p-value group B vs group D hypotesis test\n",
    "p_value_BD = proportions_ztest(count = [n_convertD, n_convertB],\n",
    "                               nobs = [n_D, n_B],\n",
    "                               alternative = 'larger')[1]\n",
    "\n",
    "print(f\"P-value B vs D: {p_value_BD:.4f}\")"
   ]
  },
  {
   "cell_type": "code",
   "execution_count": 86,
   "id": "fc53fd63",
   "metadata": {},
   "outputs": [
    {
     "name": "stdout",
     "output_type": "stream",
     "text": [
      "P-value C vs D: 0.0000\n"
     ]
    }
   ],
   "source": [
    "#p-value group C vs group D hypotesis test\n",
    "p_value_CD = proportions_ztest(count = [n_convertD, n_convertC],\n",
    "                               nobs = [n_D, n_C],\n",
    "                               alternative = 'larger')[1]\n",
    "\n",
    "print(f\"P-value C vs D: {p_value_CD:.4f}\")"
   ]
  },
  {
   "cell_type": "code",
   "execution_count": 87,
   "id": "2a9772c0",
   "metadata": {},
   "outputs": [
    {
     "data": {
      "text/html": [
       "<div>\n",
       "<style scoped>\n",
       "    .dataframe tbody tr th:only-of-type {\n",
       "        vertical-align: middle;\n",
       "    }\n",
       "\n",
       "    .dataframe tbody tr th {\n",
       "        vertical-align: top;\n",
       "    }\n",
       "\n",
       "    .dataframe thead th {\n",
       "        text-align: right;\n",
       "    }\n",
       "</style>\n",
       "<table border=\"1\" class=\"dataframe\">\n",
       "  <thead>\n",
       "    <tr style=\"text-align: right;\">\n",
       "      <th></th>\n",
       "      <th>pair_group</th>\n",
       "      <th>p-value</th>\n",
       "    </tr>\n",
       "  </thead>\n",
       "  <tbody>\n",
       "    <tr>\n",
       "      <th>0</th>\n",
       "      <td>B &gt; A</td>\n",
       "      <td>4.231391e-22</td>\n",
       "    </tr>\n",
       "    <tr>\n",
       "      <th>1</th>\n",
       "      <td>C &gt; A</td>\n",
       "      <td>7.668808e-01</td>\n",
       "    </tr>\n",
       "    <tr>\n",
       "      <th>2</th>\n",
       "      <td>D &gt; A</td>\n",
       "      <td>8.512005e-34</td>\n",
       "    </tr>\n",
       "    <tr>\n",
       "      <th>3</th>\n",
       "      <td>C &gt; B</td>\n",
       "      <td>1.000000e+00</td>\n",
       "    </tr>\n",
       "    <tr>\n",
       "      <th>4</th>\n",
       "      <td>D &gt; B</td>\n",
       "      <td>8.197395e-04</td>\n",
       "    </tr>\n",
       "    <tr>\n",
       "      <th>5</th>\n",
       "      <td>D &gt; C</td>\n",
       "      <td>1.489758e-35</td>\n",
       "    </tr>\n",
       "  </tbody>\n",
       "</table>\n",
       "</div>"
      ],
      "text/plain": [
       "  pair_group       p-value\n",
       "0      B > A  4.231391e-22\n",
       "1      C > A  7.668808e-01\n",
       "2      D > A  8.512005e-34\n",
       "3      C > B  1.000000e+00\n",
       "4      D > B  8.197395e-04\n",
       "5      D > C  1.489758e-35"
      ]
     },
     "execution_count": 87,
     "metadata": {},
     "output_type": "execute_result"
    }
   ],
   "source": [
    "# make dataframe consist of p-values\n",
    "pair_group = ['B > A',\n",
    "              'C > A',\n",
    "              'D > A',\n",
    "              'C > B',\n",
    "              'D > B',\n",
    "              'D > C']\n",
    "\n",
    "p_vals = [p_value_AB, p_value_AC,\n",
    "          p_value_AD, p_value_BC,\n",
    "          p_value_BD, p_value_CD]\n",
    "\n",
    "df_p_vals = pd.DataFrame({'pair_group': pair_group,\n",
    "                          'p-value': p_vals})\n",
    "\n",
    "#print\n",
    "df_p_vals"
   ]
  },
  {
   "cell_type": "markdown",
   "id": "f334357c",
   "metadata": {},
   "source": [
    "##### 3. Arrange the p-values in order from smallest to largest (ascending order)"
   ]
  },
  {
   "cell_type": "code",
   "execution_count": 88,
   "id": "e2c6989f",
   "metadata": {},
   "outputs": [
    {
     "data": {
      "text/html": [
       "<div>\n",
       "<style scoped>\n",
       "    .dataframe tbody tr th:only-of-type {\n",
       "        vertical-align: middle;\n",
       "    }\n",
       "\n",
       "    .dataframe tbody tr th {\n",
       "        vertical-align: top;\n",
       "    }\n",
       "\n",
       "    .dataframe thead th {\n",
       "        text-align: right;\n",
       "    }\n",
       "</style>\n",
       "<table border=\"1\" class=\"dataframe\">\n",
       "  <thead>\n",
       "    <tr style=\"text-align: right;\">\n",
       "      <th></th>\n",
       "      <th>pair_group</th>\n",
       "      <th>p-value</th>\n",
       "    </tr>\n",
       "  </thead>\n",
       "  <tbody>\n",
       "    <tr>\n",
       "      <th>5</th>\n",
       "      <td>D &gt; C</td>\n",
       "      <td>1.489758e-35</td>\n",
       "    </tr>\n",
       "    <tr>\n",
       "      <th>2</th>\n",
       "      <td>D &gt; A</td>\n",
       "      <td>8.512005e-34</td>\n",
       "    </tr>\n",
       "    <tr>\n",
       "      <th>0</th>\n",
       "      <td>B &gt; A</td>\n",
       "      <td>4.231391e-22</td>\n",
       "    </tr>\n",
       "    <tr>\n",
       "      <th>4</th>\n",
       "      <td>D &gt; B</td>\n",
       "      <td>8.197395e-04</td>\n",
       "    </tr>\n",
       "    <tr>\n",
       "      <th>1</th>\n",
       "      <td>C &gt; A</td>\n",
       "      <td>7.668808e-01</td>\n",
       "    </tr>\n",
       "    <tr>\n",
       "      <th>3</th>\n",
       "      <td>C &gt; B</td>\n",
       "      <td>1.000000e+00</td>\n",
       "    </tr>\n",
       "  </tbody>\n",
       "</table>\n",
       "</div>"
      ],
      "text/plain": [
       "  pair_group       p-value\n",
       "5      D > C  1.489758e-35\n",
       "2      D > A  8.512005e-34\n",
       "0      B > A  4.231391e-22\n",
       "4      D > B  8.197395e-04\n",
       "1      C > A  7.668808e-01\n",
       "3      C > B  1.000000e+00"
      ]
     },
     "execution_count": 88,
     "metadata": {},
     "output_type": "execute_result"
    }
   ],
   "source": [
    "df_p_vals_order = df_p_vals.sort_values(by=['p-value'])\n",
    "df_p_vals_order"
   ]
  },
  {
   "cell_type": "markdown",
   "id": "356f481f",
   "metadata": {},
   "source": [
    "##### 4. Assign ranks to the ordered p-values."
   ]
  },
  {
   "cell_type": "code",
   "execution_count": 89,
   "id": "41564ee5",
   "metadata": {},
   "outputs": [
    {
     "data": {
      "text/html": [
       "<div>\n",
       "<style scoped>\n",
       "    .dataframe tbody tr th:only-of-type {\n",
       "        vertical-align: middle;\n",
       "    }\n",
       "\n",
       "    .dataframe tbody tr th {\n",
       "        vertical-align: top;\n",
       "    }\n",
       "\n",
       "    .dataframe thead th {\n",
       "        text-align: right;\n",
       "    }\n",
       "</style>\n",
       "<table border=\"1\" class=\"dataframe\">\n",
       "  <thead>\n",
       "    <tr style=\"text-align: right;\">\n",
       "      <th></th>\n",
       "      <th>pair_group</th>\n",
       "      <th>p-value</th>\n",
       "      <th>rank</th>\n",
       "    </tr>\n",
       "  </thead>\n",
       "  <tbody>\n",
       "    <tr>\n",
       "      <th>5</th>\n",
       "      <td>D &gt; C</td>\n",
       "      <td>1.489758e-35</td>\n",
       "      <td>1</td>\n",
       "    </tr>\n",
       "    <tr>\n",
       "      <th>2</th>\n",
       "      <td>D &gt; A</td>\n",
       "      <td>8.512005e-34</td>\n",
       "      <td>2</td>\n",
       "    </tr>\n",
       "    <tr>\n",
       "      <th>0</th>\n",
       "      <td>B &gt; A</td>\n",
       "      <td>4.231391e-22</td>\n",
       "      <td>3</td>\n",
       "    </tr>\n",
       "    <tr>\n",
       "      <th>4</th>\n",
       "      <td>D &gt; B</td>\n",
       "      <td>8.197395e-04</td>\n",
       "      <td>4</td>\n",
       "    </tr>\n",
       "    <tr>\n",
       "      <th>1</th>\n",
       "      <td>C &gt; A</td>\n",
       "      <td>7.668808e-01</td>\n",
       "      <td>5</td>\n",
       "    </tr>\n",
       "    <tr>\n",
       "      <th>3</th>\n",
       "      <td>C &gt; B</td>\n",
       "      <td>1.000000e+00</td>\n",
       "      <td>6</td>\n",
       "    </tr>\n",
       "  </tbody>\n",
       "</table>\n",
       "</div>"
      ],
      "text/plain": [
       "  pair_group       p-value  rank\n",
       "5      D > C  1.489758e-35     1\n",
       "2      D > A  8.512005e-34     2\n",
       "0      B > A  4.231391e-22     3\n",
       "4      D > B  8.197395e-04     4\n",
       "1      C > A  7.668808e-01     5\n",
       "3      C > B  1.000000e+00     6"
      ]
     },
     "execution_count": 89,
     "metadata": {},
     "output_type": "execute_result"
    }
   ],
   "source": [
    "df_p_vals_order['rank'] = df_p_vals_order['p-value'].rank().sub(0).astype(int)\n",
    "df_p_vals_order"
   ]
  },
  {
   "cell_type": "markdown",
   "id": "07ee6649",
   "metadata": {},
   "source": [
    "##### 5. Calculate each individual p-value’s Benjamini-Hochberg critical value"
   ]
  },
  {
   "cell_type": "markdown",
   "id": "1d65791c",
   "metadata": {},
   "source": [
    "Using the formula :\n",
    "\n",
    "$$\\text{BH-critical value} = \\left ( \\frac{i}{m} \\right )Q$$\n",
    "\n",
    "\n",
    "where:\n",
    "- $i$ = the p-value’s rank\n",
    "- $m$ = total number of tests\n",
    "- $Q$ = the false discovery rate (chosen by the experimenter)\n"
   ]
  },
  {
   "cell_type": "markdown",
   "id": "7076c8fc",
   "metadata": {},
   "source": [
    "- Suppose that, the experimenter want to control false discoverry rate in 5%. So the $Q=0.05$"
   ]
  },
  {
   "cell_type": "code",
   "execution_count": 90,
   "id": "494784fe",
   "metadata": {},
   "outputs": [
    {
     "data": {
      "text/html": [
       "<div>\n",
       "<style scoped>\n",
       "    .dataframe tbody tr th:only-of-type {\n",
       "        vertical-align: middle;\n",
       "    }\n",
       "\n",
       "    .dataframe tbody tr th {\n",
       "        vertical-align: top;\n",
       "    }\n",
       "\n",
       "    .dataframe thead th {\n",
       "        text-align: right;\n",
       "    }\n",
       "</style>\n",
       "<table border=\"1\" class=\"dataframe\">\n",
       "  <thead>\n",
       "    <tr style=\"text-align: right;\">\n",
       "      <th></th>\n",
       "      <th>pair_group</th>\n",
       "      <th>p-value</th>\n",
       "      <th>rank</th>\n",
       "      <th>BH-crit</th>\n",
       "    </tr>\n",
       "  </thead>\n",
       "  <tbody>\n",
       "    <tr>\n",
       "      <th>5</th>\n",
       "      <td>D &gt; C</td>\n",
       "      <td>1.489758e-35</td>\n",
       "      <td>1</td>\n",
       "      <td>0.008333</td>\n",
       "    </tr>\n",
       "    <tr>\n",
       "      <th>2</th>\n",
       "      <td>D &gt; A</td>\n",
       "      <td>8.512005e-34</td>\n",
       "      <td>2</td>\n",
       "      <td>0.016667</td>\n",
       "    </tr>\n",
       "    <tr>\n",
       "      <th>0</th>\n",
       "      <td>B &gt; A</td>\n",
       "      <td>4.231391e-22</td>\n",
       "      <td>3</td>\n",
       "      <td>0.025000</td>\n",
       "    </tr>\n",
       "    <tr>\n",
       "      <th>4</th>\n",
       "      <td>D &gt; B</td>\n",
       "      <td>8.197395e-04</td>\n",
       "      <td>4</td>\n",
       "      <td>0.033333</td>\n",
       "    </tr>\n",
       "    <tr>\n",
       "      <th>1</th>\n",
       "      <td>C &gt; A</td>\n",
       "      <td>7.668808e-01</td>\n",
       "      <td>5</td>\n",
       "      <td>0.041667</td>\n",
       "    </tr>\n",
       "    <tr>\n",
       "      <th>3</th>\n",
       "      <td>C &gt; B</td>\n",
       "      <td>1.000000e+00</td>\n",
       "      <td>6</td>\n",
       "      <td>0.050000</td>\n",
       "    </tr>\n",
       "  </tbody>\n",
       "</table>\n",
       "</div>"
      ],
      "text/plain": [
       "  pair_group       p-value  rank   BH-crit\n",
       "5      D > C  1.489758e-35     1  0.008333\n",
       "2      D > A  8.512005e-34     2  0.016667\n",
       "0      B > A  4.231391e-22     3  0.025000\n",
       "4      D > B  8.197395e-04     4  0.033333\n",
       "1      C > A  7.668808e-01     5  0.041667\n",
       "3      C > B  1.000000e+00     6  0.050000"
      ]
     },
     "execution_count": 90,
     "metadata": {},
     "output_type": "execute_result"
    }
   ],
   "source": [
    "#define Q\n",
    "Q = 0.05\n",
    "\n",
    "#calculate BH-critical value\n",
    "df_p_vals_order['BH-crit'] = df_p_vals_order['rank']/len(df_p_vals_order)*Q\n",
    "\n",
    "#print\n",
    "df_p_vals_order"
   ]
  },
  {
   "cell_type": "markdown",
   "id": "21103cda",
   "metadata": {},
   "source": [
    "##### Compare original p-values to the Benjamini-Hochberg critical value \n",
    "\n",
    "If the original p-values smaller than Benjamini-Hochberg critical, then the test are significant (reject $H_0$)\n"
   ]
  },
  {
   "cell_type": "code",
   "execution_count": 91,
   "id": "518a67af",
   "metadata": {},
   "outputs": [
    {
     "data": {
      "text/html": [
       "<div>\n",
       "<style scoped>\n",
       "    .dataframe tbody tr th:only-of-type {\n",
       "        vertical-align: middle;\n",
       "    }\n",
       "\n",
       "    .dataframe tbody tr th {\n",
       "        vertical-align: top;\n",
       "    }\n",
       "\n",
       "    .dataframe thead th {\n",
       "        text-align: right;\n",
       "    }\n",
       "</style>\n",
       "<table border=\"1\" class=\"dataframe\">\n",
       "  <thead>\n",
       "    <tr style=\"text-align: right;\">\n",
       "      <th></th>\n",
       "      <th>pair_group</th>\n",
       "      <th>p-value</th>\n",
       "      <th>rank</th>\n",
       "      <th>BH-crit</th>\n",
       "      <th>Significant?</th>\n",
       "    </tr>\n",
       "  </thead>\n",
       "  <tbody>\n",
       "    <tr>\n",
       "      <th>5</th>\n",
       "      <td>D &gt; C</td>\n",
       "      <td>1.489758e-35</td>\n",
       "      <td>1</td>\n",
       "      <td>0.008333</td>\n",
       "      <td>Yes</td>\n",
       "    </tr>\n",
       "    <tr>\n",
       "      <th>2</th>\n",
       "      <td>D &gt; A</td>\n",
       "      <td>8.512005e-34</td>\n",
       "      <td>2</td>\n",
       "      <td>0.016667</td>\n",
       "      <td>Yes</td>\n",
       "    </tr>\n",
       "    <tr>\n",
       "      <th>0</th>\n",
       "      <td>B &gt; A</td>\n",
       "      <td>4.231391e-22</td>\n",
       "      <td>3</td>\n",
       "      <td>0.025000</td>\n",
       "      <td>Yes</td>\n",
       "    </tr>\n",
       "    <tr>\n",
       "      <th>4</th>\n",
       "      <td>D &gt; B</td>\n",
       "      <td>8.197395e-04</td>\n",
       "      <td>4</td>\n",
       "      <td>0.033333</td>\n",
       "      <td>Yes</td>\n",
       "    </tr>\n",
       "    <tr>\n",
       "      <th>1</th>\n",
       "      <td>C &gt; A</td>\n",
       "      <td>7.668808e-01</td>\n",
       "      <td>5</td>\n",
       "      <td>0.041667</td>\n",
       "      <td>No</td>\n",
       "    </tr>\n",
       "    <tr>\n",
       "      <th>3</th>\n",
       "      <td>C &gt; B</td>\n",
       "      <td>1.000000e+00</td>\n",
       "      <td>6</td>\n",
       "      <td>0.050000</td>\n",
       "      <td>No</td>\n",
       "    </tr>\n",
       "  </tbody>\n",
       "</table>\n",
       "</div>"
      ],
      "text/plain": [
       "  pair_group       p-value  rank   BH-crit Significant?\n",
       "5      D > C  1.489758e-35     1  0.008333          Yes\n",
       "2      D > A  8.512005e-34     2  0.016667          Yes\n",
       "0      B > A  4.231391e-22     3  0.025000          Yes\n",
       "4      D > B  8.197395e-04     4  0.033333          Yes\n",
       "1      C > A  7.668808e-01     5  0.041667           No\n",
       "3      C > B  1.000000e+00     6  0.050000           No"
      ]
     },
     "execution_count": 91,
     "metadata": {},
     "output_type": "execute_result"
    }
   ],
   "source": [
    "# make new column with condition\n",
    "df_p_vals_order['Significant?'] = np.where(df_p_vals_order['p-value'] < df_p_vals_order['BH-crit'],\n",
    "                                           'Yes',\n",
    "                                           'No')\n",
    "\n",
    "#print\n",
    "df_p_vals_order"
   ]
  },
  {
   "cell_type": "markdown",
   "id": "081a8e5a",
   "metadata": {},
   "source": [
    "**Conclusion**\n",
    "- Based on the results of multiple testing, test for group D vs group C, group D vs group A, group B vs group A, and group B vs group D resulted a significant outcome.\n",
    "- Because our hypothesis is to compare whether group $j$ is more than group $i$, so it can be concluded that there is sufficient evidence that the conversion rate of group D (ad + total ads > 15) is higher than groups A, B and C.\n",
    "- Group D is the group that has the highest conversion rate among all groups. \n",
    "- Group D becomes the winning version of the 4 combinations of the marketing company.\n",
    "- It means that using creative ads with total ads > 15 statistically has an impact on increasing conversion rates."
   ]
  },
  {
   "cell_type": "markdown",
   "id": "7ef8f178",
   "metadata": {},
   "source": [
    "#### Confidence interval of difference between Treatment and Control"
   ]
  },
  {
   "cell_type": "markdown",
   "id": "fbf3d544",
   "metadata": {},
   "source": [
    "After that, we will calculate the confidence interval to estimate within what range the difference or proportion discrepancy in the population lies"
   ]
  },
  {
   "cell_type": "code",
   "execution_count": 111,
   "id": "e2e0728a",
   "metadata": {},
   "outputs": [
    {
     "name": "stdout",
     "output_type": "stream",
     "text": [
      "Difference A vs B: (0.027973626325347657, 0.04223528870277167)\n"
     ]
    }
   ],
   "source": [
    "from statsmodels.stats.proportion import confint_proportions_2indep\n",
    "\n",
    "confidence_interval_AB = confint_proportions_2indep(count1 = n_convertB, nobs1 = n_B,\n",
    "                                                 count2 = n_convertA, nobs2 = n_A, \n",
    "                                                 compare='diff', alpha=0.05)\n",
    "print(f\"Difference A vs B: {confidence_interval_AB}\")"
   ]
  },
  {
   "cell_type": "code",
   "execution_count": 112,
   "id": "3a8e7526",
   "metadata": {},
   "outputs": [
    {
     "name": "stdout",
     "output_type": "stream",
     "text": [
      "Difference A vs C: (-0.00393533428179327, 0.0018564693233408085)\n"
     ]
    }
   ],
   "source": [
    "confidence_interval_AC = confint_proportions_2indep(count1 = n_convertC, nobs1 = n_C,\n",
    "                                                 count2 = n_convertA, nobs2 = n_A, \n",
    "                                                 compare='diff', alpha=0.05)\n",
    "print(f\"Difference A vs C: {confidence_interval_AC}\")"
   ]
  },
  {
   "cell_type": "code",
   "execution_count": 113,
   "id": "1d8a4e23",
   "metadata": {},
   "outputs": [
    {
     "name": "stdout",
     "output_type": "stream",
     "text": [
      "Difference A vs D: (0.04364355498962791, 0.0603610044122684)\n"
     ]
    }
   ],
   "source": [
    "confidence_interval_AD = confint_proportions_2indep(count1 = n_convertD, nobs1 = n_D,\n",
    "                                                 count2 = n_convertA, nobs2 = n_A, \n",
    "                                                 compare='diff', alpha=0.05)\n",
    "print(f\"Difference A vs D: {confidence_interval_AD}\")"
   ]
  },
  {
   "cell_type": "code",
   "execution_count": 114,
   "id": "f6e7d75e",
   "metadata": {},
   "outputs": [
    {
     "name": "stdout",
     "output_type": "stream",
     "text": [
      "Difference B vs C: (-0.04315408851244238, -0.02906560982858217)\n"
     ]
    }
   ],
   "source": [
    "confidence_interval_BC = confint_proportions_2indep(count1 = n_convertC, nobs1 = n_C,\n",
    "                                                 count2 = n_convertB, nobs2 = n_B, \n",
    "                                                 compare='diff', alpha=0.05)\n",
    "print(f\"Difference B vs C: {confidence_interval_BC}\")"
   ]
  },
  {
   "cell_type": "code",
   "execution_count": 115,
   "id": "8d276f0d",
   "metadata": {},
   "outputs": [
    {
     "name": "stdout",
     "output_type": "stream",
     "text": [
      "Difference B vs D: (0.006382694411223088, 0.027491572321206546)\n"
     ]
    }
   ],
   "source": [
    "confidence_interval_BD = confint_proportions_2indep(count1 = n_convertD, nobs1 = n_D,\n",
    "                                                 count2 = n_convertB, nobs2 = n_B, \n",
    "                                                 compare='diff', alpha=0.05)\n",
    "print(f\"Difference B vs D: {confidence_interval_BD}\")"
   ]
  },
  {
   "cell_type": "code",
   "execution_count": 116,
   "id": "955b517e",
   "metadata": {},
   "outputs": [
    {
     "name": "stdout",
     "output_type": "stream",
     "text": [
      "Difference C vs D: (0.04471735713003535, 0.061287704427821436)\n"
     ]
    }
   ],
   "source": [
    "confidence_interval_CD = confint_proportions_2indep(count1 = n_convertD, nobs1 = n_D,\n",
    "                                                 count2 = n_convertC, nobs2 = n_C, \n",
    "                                                 compare='diff', alpha=0.05)\n",
    "print(f\"Difference C vs D: {confidence_interval_CD}\")"
   ]
  },
  {
   "cell_type": "code",
   "execution_count": 117,
   "id": "f5d69862",
   "metadata": {},
   "outputs": [],
   "source": [
    "confidence_interval_AB = list(confidence_interval_AB)\n",
    "confidence_interval_AC = list(confidence_interval_AC)\n",
    "confidence_interval_AD = list(confidence_interval_AD)\n",
    "confidence_interval_BC = list(confidence_interval_BC)\n",
    "confidence_interval_BD = list(confidence_interval_BD)\n",
    "confidence_interval_CD = list(confidence_interval_CD)\n",
    "\n",
    "index = ['confidence_interval_AB','confidence_interval_AC','confidence_interval_AD','confidence_interval_BC',\n",
    "         'confidence_interval_BD','confidence_interval_CD']\n",
    "\n",
    "confidence_interval = [confidence_interval_AB, confidence_interval_AC, confidence_interval_AD,\n",
    "                      confidence_interval_BC, confidence_interval_BD, confidence_interval_CD]\n",
    "\n",
    "df_ci = pd.DataFrame(confidence_interval, columns = [\"lower\",\"upper\"])\n",
    "df_ci = df_ci.set_index([index])"
   ]
  },
  {
   "cell_type": "markdown",
   "id": "5f884d38",
   "metadata": {},
   "source": [
    "Based on these results, we are 95% confident that the difference in proportion of users who converted between the treatment group (B) and the control group (A) can be seen in the table below.\n",
    "\n",
    "Or it can be said that the increase in conversion rate using the Creative Ad method (treatment) has increased according to the table below."
   ]
  },
  {
   "cell_type": "code",
   "execution_count": 118,
   "id": "72447bfd",
   "metadata": {},
   "outputs": [
    {
     "data": {
      "text/html": [
       "<div>\n",
       "<style scoped>\n",
       "    .dataframe tbody tr th:only-of-type {\n",
       "        vertical-align: middle;\n",
       "    }\n",
       "\n",
       "    .dataframe tbody tr th {\n",
       "        vertical-align: top;\n",
       "    }\n",
       "\n",
       "    .dataframe thead th {\n",
       "        text-align: right;\n",
       "    }\n",
       "</style>\n",
       "<table border=\"1\" class=\"dataframe\">\n",
       "  <thead>\n",
       "    <tr style=\"text-align: right;\">\n",
       "      <th></th>\n",
       "      <th>lower</th>\n",
       "      <th>upper</th>\n",
       "    </tr>\n",
       "  </thead>\n",
       "  <tbody>\n",
       "    <tr>\n",
       "      <th>confidence_interval_AB</th>\n",
       "      <td>0.027974</td>\n",
       "      <td>0.042235</td>\n",
       "    </tr>\n",
       "    <tr>\n",
       "      <th>confidence_interval_AC</th>\n",
       "      <td>-0.003935</td>\n",
       "      <td>0.001856</td>\n",
       "    </tr>\n",
       "    <tr>\n",
       "      <th>confidence_interval_AD</th>\n",
       "      <td>0.043644</td>\n",
       "      <td>0.060361</td>\n",
       "    </tr>\n",
       "    <tr>\n",
       "      <th>confidence_interval_BC</th>\n",
       "      <td>-0.043154</td>\n",
       "      <td>-0.029066</td>\n",
       "    </tr>\n",
       "    <tr>\n",
       "      <th>confidence_interval_BD</th>\n",
       "      <td>0.006383</td>\n",
       "      <td>0.027492</td>\n",
       "    </tr>\n",
       "    <tr>\n",
       "      <th>confidence_interval_CD</th>\n",
       "      <td>0.044717</td>\n",
       "      <td>0.061288</td>\n",
       "    </tr>\n",
       "  </tbody>\n",
       "</table>\n",
       "</div>"
      ],
      "text/plain": [
       "                           lower     upper\n",
       "confidence_interval_AB  0.027974  0.042235\n",
       "confidence_interval_AC -0.003935  0.001856\n",
       "confidence_interval_AD  0.043644  0.060361\n",
       "confidence_interval_BC -0.043154 -0.029066\n",
       "confidence_interval_BD  0.006383  0.027492\n",
       "confidence_interval_CD  0.044717  0.061288"
      ]
     },
     "execution_count": 118,
     "metadata": {},
     "output_type": "execute_result"
    }
   ],
   "source": [
    "df_ci"
   ]
  },
  {
   "cell_type": "markdown",
   "id": "de0de24a",
   "metadata": {},
   "source": [
    "Recommendation for the marketing company: based on the statistical test results, it is statistically significant. However, to make a decision whether to use creative ads or not, it needs to be ensured whether it is practically significant such as the cost of using ads, marketing costs, etc. should not incur losses.\n",
    "\n",
    "With a minimum difference in conversion rate of 1%, the Confidence Interval values for A vs D (4.47% - 6.13%)  so that the use of Creative Ads is recommended."
   ]
  },
  {
   "cell_type": "markdown",
   "id": "3ab1ec2c",
   "metadata": {},
   "source": [
    "#### Calculate the Probability to Be Best (PBB)"
   ]
  },
  {
   "cell_type": "markdown",
   "id": "9a063a54",
   "metadata": {},
   "source": [
    "- To get sense of chance of a variation to have the best performance in the long term, we simulate its probability distribution given **the current** data\n",
    "- **Bayesian** approach it is!"
   ]
  },
  {
   "cell_type": "markdown",
   "id": "490a6559",
   "metadata": {},
   "source": [
    "- Simply, we use the Bayesian theorem to find our update believe (posterior) about something that we know (prior) given the data (likelihood).\n",
    "\n",
    "$$\n",
    "P(\\mu | z) \\propto P(\\mu) P(z|\\mu)\n",
    "$$"
   ]
  },
  {
   "cell_type": "markdown",
   "id": "85685de6",
   "metadata": {},
   "source": [
    "- $P(\\mu)$ is the prior probability to find our current conversion rate ($\\mu$). \n",
    "- Because it is `convert` or `not convert`, the probability must be following the binomial distribution.\n",
    "- Thus,\n",
    "\n",
    "$$\n",
    "P(\\mu) \\sim \\text{Binomial}(\\mu, n_{\\text{trial}}, n_{\\text{success}})\n",
    "$$"
   ]
  },
  {
   "cell_type": "markdown",
   "id": "86c58fbc",
   "metadata": {},
   "source": [
    "- $P(z|\\mu)$ is the likelihood.\n",
    "- Why we need this? Because, even the CRV is similar, however it is different between:\n",
    "  - 1 conversion from 10 users\n",
    "  - 12 conversions from 100 users\n",
    "  - 70 conversions from 500 users\n",
    "\n",
    "<img src=\"https://www.dynamicyield.com/wp-content/uploads/2016/09/Bayesian-Statistics-Graph.png\">"
   ]
  },
  {
   "cell_type": "markdown",
   "id": "1b78f22f",
   "metadata": {},
   "source": [
    "- We can model the above distribution using **Beta** distribution.\n",
    "- Why? because beta distribution return value between 0-1.\n",
    "\n",
    "$$\n",
    "P(z|\\mu) \\sim \\text{Beta}(\\alpha, \\beta)\n",
    "$$"
   ]
  },
  {
   "cell_type": "markdown",
   "id": "b14e8e2f",
   "metadata": {},
   "source": [
    "- Multiply both the prior and likelihood to obtain the posterior.\n",
    "- In short, we get the posterior distribution as\n",
    "\n",
    "$$\n",
    "P(\\mu|z) \\sim \\text{Beta}(\\alpha=n_{\\text{success}}+1, \\beta=n_{\\text{fail}}+1)\n",
    "$$"
   ]
  },
  {
   "cell_type": "code",
   "execution_count": 100,
   "id": "5fd7bf9a",
   "metadata": {},
   "outputs": [],
   "source": [
    "# Create a function to find the posterior distribution\n",
    "def generate_posterior(results):\n",
    "    \"\"\"\n",
    "    Function to generate the posterior distribution from a group result\n",
    "    posterior distribution\n",
    "        P(CVR | z) ~ Beta(a = n_success + 1,\n",
    "                          b = n_fail + 1)\n",
    "    :param results: <dict> summary of evaluation criteria\n",
    "    :return posterior: <list> simulation of posterior distribution\n",
    "    \"\"\"\n",
    "    # Ekstrak value\n",
    "    n_trial = results[\"session\"]\n",
    "    n_success = results[\"conversion\"]\n",
    "    n_fail = n_trial - n_success\n",
    "\n",
    "    # Generate posterior\n",
    "    posterior = stats.beta.rvs(a = 1 + n_success,\n",
    "                               b = 1 + (n_trial-n_success),\n",
    "                               size = 10_000)\n",
    "    \n",
    "    return posterior\n"
   ]
  },
  {
   "cell_type": "code",
   "execution_count": 101,
   "id": "7a5febb0",
   "metadata": {},
   "outputs": [],
   "source": [
    "# Generate posterior results of control & treatment\n",
    "control_posterior_A = generate_posterior(results = control_res_A)\n",
    "treatment_posterior_B = generate_posterior(results = treatment_res_B)\n",
    "treatment_posterior_C = generate_posterior(results = treatment_res_C)\n",
    "treatment_posterior_D = generate_posterior(results = treatment_res_D)"
   ]
  },
  {
   "cell_type": "code",
   "execution_count": 102,
   "id": "44489cd9",
   "metadata": {},
   "outputs": [
    {
     "data": {
      "image/png": "[encoded data removed]",
      "text/plain": [
       "<Figure size 720x504 with 1 Axes>"
      ]
     },
     "metadata": {
      "needs_background": "light"
     },
     "output_type": "display_data"
    }
   ],
   "source": [
    "# Plot the results\n",
    "fig, ax = plt.subplots(nrows = 1, ncols = 1, figsize = (10, 7))\n",
    "\n",
    "sns.kdeplot(data = control_posterior_A, \n",
    "            color = \"blue\", \n",
    "            label = \"control\", \n",
    "            fill = True,\n",
    "            alpha = 0.1,\n",
    "            ax = ax)\n",
    "sns.kdeplot(data = treatment_posterior_B, \n",
    "            color = \"red\", \n",
    "            label = \"treatment\", \n",
    "            fill = True,\n",
    "            alpha = 0.1,\n",
    "            ax = ax)\n",
    "\n",
    "ax.set_ylabel(\"Probability Density\", fontsize=16)\n",
    "ax.set_xlabel(\"Conversion Rate\", fontsize=16)\n",
    "plt.legend()\n",
    "plt.show()"
   ]
  },
  {
   "cell_type": "code",
   "execution_count": 103,
   "id": "cdb3bd6b",
   "metadata": {},
   "outputs": [
    {
     "data": {
      "image/png": "[encoded data removed]",
      "text/plain": [
       "<Figure size 720x504 with 1 Axes>"
      ]
     },
     "metadata": {
      "needs_background": "light"
     },
     "output_type": "display_data"
    }
   ],
   "source": [
    "# Plot the results\n",
    "fig, ax = plt.subplots(nrows = 1, ncols = 1, figsize = (10, 7))\n",
    "\n",
    "sns.kdeplot(data = control_posterior_A, \n",
    "            color = \"blue\", \n",
    "            label = \"control\", \n",
    "            fill = True,\n",
    "            alpha = 0.1,\n",
    "            ax = ax)\n",
    "sns.kdeplot(data = treatment_posterior_C, \n",
    "            color = \"red\", \n",
    "            label = \"treatment\", \n",
    "            fill = True,\n",
    "            alpha = 0.1,\n",
    "            ax = ax)\n",
    "\n",
    "ax.set_ylabel(\"Probability Density\", fontsize=16)\n",
    "ax.set_xlabel(\"Conversion Rate\", fontsize=16)\n",
    "plt.legend()\n",
    "plt.show()"
   ]
  },
  {
   "cell_type": "code",
   "execution_count": 104,
   "id": "41132699",
   "metadata": {},
   "outputs": [
    {
     "data": {
      "image/png": "[encoded data removed]",
      "text/plain": [
       "<Figure size 720x504 with 1 Axes>"
      ]
     },
     "metadata": {
      "needs_background": "light"
     },
     "output_type": "display_data"
    }
   ],
   "source": [
    "# Plot the results\n",
    "fig, ax = plt.subplots(nrows = 1, ncols = 1, figsize = (10, 7))\n",
    "\n",
    "sns.kdeplot(data = control_posterior_A, \n",
    "            color = \"blue\", \n",
    "            label = \"control\", \n",
    "            fill = True,\n",
    "            alpha = 0.1,\n",
    "            ax = ax)\n",
    "sns.kdeplot(data = treatment_posterior_D, \n",
    "            color = \"red\", \n",
    "            label = \"treatment\", \n",
    "            fill = True,\n",
    "            alpha = 0.1,\n",
    "            ax = ax)\n",
    "\n",
    "ax.set_ylabel(\"Probability Density\", fontsize=16)\n",
    "ax.set_xlabel(\"Conversion Rate\", fontsize=16)\n",
    "plt.legend()\n",
    "plt.show()"
   ]
  },
  {
   "cell_type": "code",
   "execution_count": 105,
   "id": "8ddbfe3b",
   "metadata": {},
   "outputs": [],
   "source": [
    "control_win_B = control_posterior_A - treatment_posterior_B\n",
    "control_win_C = control_posterior_A - treatment_posterior_C\n",
    "control_win_D = control_posterior_A - treatment_posterior_D"
   ]
  },
  {
   "cell_type": "code",
   "execution_count": 106,
   "id": "e2017ea5",
   "metadata": {},
   "outputs": [
    {
     "data": {
      "image/png": "[encoded data removed]",
      "text/plain": [
       "<Figure size 720x504 with 1 Axes>"
      ]
     },
     "metadata": {
      "needs_background": "light"
     },
     "output_type": "display_data"
    }
   ],
   "source": [
    "# Plot the results\n",
    "fig, ax = plt.subplots(nrows = 1, ncols = 1, figsize = (10, 7))\n",
    "\n",
    "sns.kdeplot(data = control_win_B, \n",
    "            color = \"blue\", \n",
    "            label = \"control\", \n",
    "            fill = True,\n",
    "            alpha = 0.1,\n",
    "            ax = ax)\n",
    "ax.axvline(0.0000, color = \"red\", linestyle=\"--\")\n",
    "\n",
    "ax.set_title(\"Posterior Simulation of Difference\", fontsize=20)\n",
    "ax.set_ylabel(\"Probability Density\", fontsize=16)\n",
    "ax.set_xlabel(\"Conversion Rate Difference (control - treatment)\", fontsize=16)\n",
    "plt.legend()\n",
    "plt.show()"
   ]
  },
  {
   "cell_type": "code",
   "execution_count": 107,
   "id": "20aafacb",
   "metadata": {},
   "outputs": [
    {
     "data": {
      "image/png": "[encoded data removed]",
      "text/plain": [
       "<Figure size 720x504 with 1 Axes>"
      ]
     },
     "metadata": {
      "needs_background": "light"
     },
     "output_type": "display_data"
    }
   ],
   "source": [
    "# Plot the results\n",
    "fig, ax = plt.subplots(nrows = 1, ncols = 1, figsize = (10, 7))\n",
    "\n",
    "sns.kdeplot(data = control_win_C, \n",
    "            color = \"blue\", \n",
    "            label = \"control\", \n",
    "            fill = True,\n",
    "            alpha = 0.1,\n",
    "            ax = ax)\n",
    "ax.axvline(0.0000, color = \"red\", linestyle=\"--\")\n",
    "\n",
    "ax.set_title(\"Posterior Simulation of Difference\", fontsize=20)\n",
    "ax.set_ylabel(\"Probability Density\", fontsize=16)\n",
    "ax.set_xlabel(\"Conversion Rate Difference (control - treatment)\", fontsize=16)\n",
    "plt.legend()\n",
    "plt.show()"
   ]
  },
  {
   "cell_type": "code",
   "execution_count": 108,
   "id": "e7ee9b37",
   "metadata": {
    "scrolled": true
   },
   "outputs": [
    {
     "data": {
      "image/png": "[encoded data removed]",
      "text/plain": [
       "<Figure size 720x504 with 1 Axes>"
      ]
     },
     "metadata": {
      "needs_background": "light"
     },
     "output_type": "display_data"
    }
   ],
   "source": [
    "# Plot the results\n",
    "fig, ax = plt.subplots(nrows = 1, ncols = 1, figsize = (10, 7))\n",
    "\n",
    "sns.kdeplot(data = control_win_D, \n",
    "            color = \"blue\", \n",
    "            label = \"control\", \n",
    "            fill = True,\n",
    "            alpha = 0.1,\n",
    "            ax = ax)\n",
    "ax.axvline(0.0000, color = \"red\", linestyle=\"--\")\n",
    "\n",
    "ax.set_title(\"Posterior Simulation of Difference\", fontsize=20)\n",
    "ax.set_ylabel(\"Probability Density\", fontsize=16)\n",
    "ax.set_xlabel(\"Conversion Rate Difference (control - treatment)\", fontsize=16)\n",
    "plt.legend()\n",
    "plt.show()"
   ]
  },
  {
   "cell_type": "code",
   "execution_count": null,
   "id": "fc355515",
   "metadata": {},
   "outputs": [],
   "source": []
  }
 ],
 "metadata": {
  "kernelspec": {
   "display_name": "Python 3 (ipykernel)",
   "language": "python",
   "name": "python3"
  },
  "language_info": {
   "codemirror_mode": {
    "name": "ipython",
    "version": 3
   },
   "file_extension": ".py",
   "mimetype": "text/x-python",
   "name": "python",
   "nbconvert_exporter": "python",
   "pygments_lexer": "ipython3",
   "version": "3.9.7"
  }
 },
 "nbformat": 4,
 "nbformat_minor": 5
}
